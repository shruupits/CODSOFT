{
 "cells": [
  {
   "cell_type": "markdown",
   "id": "e09957ff",
   "metadata": {},
   "source": [
    "### Task 2 : Movie Rating Prediction using Python"
   ]
  },
  {
   "cell_type": "markdown",
   "id": "53fd921a",
   "metadata": {},
   "source": [
    "Importing required modules"
   ]
  },
  {
   "cell_type": "code",
   "execution_count": 31,
   "id": "c8f65e06",
   "metadata": {},
   "outputs": [],
   "source": [
    "import numpy as np\n",
    "import pandas as pd\n",
    "import re\n",
    "\n",
    "import seaborn as sns\n",
    "import matplotlib.pyplot as plt\n",
    "\n",
    "from sklearn.preprocessing import StandardScaler, RobustScaler\n",
    "from sklearn.pipeline import Pipeline\n",
    "from sklearn.preprocessing import LabelEncoder\n",
    "from sklearn.model_selection import train_test_split\n",
    "from sklearn.linear_model import LinearRegression\n",
    "from sklearn.ensemble import RandomForestRegressor, GradientBoostingRegressor\n",
    "from sklearn.metrics import mean_squared_error, mean_absolute_error, r2_score\n",
    "\n",
    "\n",
    "import warnings\n",
    "warnings.filterwarnings(\"ignore\")\n",
    "\n",
    "%matplotlib inline"
   ]
  },
  {
   "cell_type": "markdown",
   "id": "e714e6e8",
   "metadata": {},
   "source": [
    "Loading data"
   ]
  },
  {
   "cell_type": "code",
   "execution_count": 4,
   "id": "0a9c7604",
   "metadata": {},
   "outputs": [],
   "source": [
    "dataset = pd.read_csv(\"IMDb Movies India.csv\", encoding=\"Latin\")\n",
    "data = dataset.copy()"
   ]
  },
  {
   "cell_type": "markdown",
   "id": "34f50513",
   "metadata": {},
   "source": [
    "Data inspection"
   ]
  },
  {
   "cell_type": "code",
   "execution_count": 9,
   "id": "efb01dc1",
   "metadata": {},
   "outputs": [
    {
     "data": {
      "text/html": [
       "<div>\n",
       "<style scoped>\n",
       "    .dataframe tbody tr th:only-of-type {\n",
       "        vertical-align: middle;\n",
       "    }\n",
       "\n",
       "    .dataframe tbody tr th {\n",
       "        vertical-align: top;\n",
       "    }\n",
       "\n",
       "    .dataframe thead th {\n",
       "        text-align: right;\n",
       "    }\n",
       "</style>\n",
       "<table border=\"1\" class=\"dataframe\">\n",
       "  <thead>\n",
       "    <tr style=\"text-align: right;\">\n",
       "      <th></th>\n",
       "      <th>Name</th>\n",
       "      <th>Year</th>\n",
       "      <th>Duration</th>\n",
       "      <th>Genre</th>\n",
       "      <th>Rating</th>\n",
       "      <th>Votes</th>\n",
       "      <th>Director</th>\n",
       "      <th>Actor 1</th>\n",
       "      <th>Actor 2</th>\n",
       "      <th>Actor 3</th>\n",
       "    </tr>\n",
       "  </thead>\n",
       "  <tbody>\n",
       "    <tr>\n",
       "      <th>0</th>\n",
       "      <td></td>\n",
       "      <td>NaN</td>\n",
       "      <td>NaN</td>\n",
       "      <td>Drama</td>\n",
       "      <td>NaN</td>\n",
       "      <td>NaN</td>\n",
       "      <td>J.S. Randhawa</td>\n",
       "      <td>Manmauji</td>\n",
       "      <td>Birbal</td>\n",
       "      <td>Rajendra Bhatia</td>\n",
       "    </tr>\n",
       "    <tr>\n",
       "      <th>1</th>\n",
       "      <td>#Gadhvi (He thought he was Gandhi)</td>\n",
       "      <td>(2019)</td>\n",
       "      <td>109 min</td>\n",
       "      <td>Drama</td>\n",
       "      <td>7.0</td>\n",
       "      <td>8</td>\n",
       "      <td>Gaurav Bakshi</td>\n",
       "      <td>Rasika Dugal</td>\n",
       "      <td>Vivek Ghamande</td>\n",
       "      <td>Arvind Jangid</td>\n",
       "    </tr>\n",
       "    <tr>\n",
       "      <th>2</th>\n",
       "      <td>#Homecoming</td>\n",
       "      <td>(2021)</td>\n",
       "      <td>90 min</td>\n",
       "      <td>Drama, Musical</td>\n",
       "      <td>NaN</td>\n",
       "      <td>NaN</td>\n",
       "      <td>Soumyajit Majumdar</td>\n",
       "      <td>Sayani Gupta</td>\n",
       "      <td>Plabita Borthakur</td>\n",
       "      <td>Roy Angana</td>\n",
       "    </tr>\n",
       "    <tr>\n",
       "      <th>3</th>\n",
       "      <td>#Yaaram</td>\n",
       "      <td>(2019)</td>\n",
       "      <td>110 min</td>\n",
       "      <td>Comedy, Romance</td>\n",
       "      <td>4.4</td>\n",
       "      <td>35</td>\n",
       "      <td>Ovais Khan</td>\n",
       "      <td>Prateik</td>\n",
       "      <td>Ishita Raj</td>\n",
       "      <td>Siddhant Kapoor</td>\n",
       "    </tr>\n",
       "    <tr>\n",
       "      <th>4</th>\n",
       "      <td>...And Once Again</td>\n",
       "      <td>(2010)</td>\n",
       "      <td>105 min</td>\n",
       "      <td>Drama</td>\n",
       "      <td>NaN</td>\n",
       "      <td>NaN</td>\n",
       "      <td>Amol Palekar</td>\n",
       "      <td>Rajat Kapoor</td>\n",
       "      <td>Rituparna Sengupta</td>\n",
       "      <td>Antara Mali</td>\n",
       "    </tr>\n",
       "    <tr>\n",
       "      <th>5</th>\n",
       "      <td>...Aur Pyaar Ho Gaya</td>\n",
       "      <td>(1997)</td>\n",
       "      <td>147 min</td>\n",
       "      <td>Comedy, Drama, Musical</td>\n",
       "      <td>4.7</td>\n",
       "      <td>827</td>\n",
       "      <td>Rahul Rawail</td>\n",
       "      <td>Bobby Deol</td>\n",
       "      <td>Aishwarya Rai Bachchan</td>\n",
       "      <td>Shammi Kapoor</td>\n",
       "    </tr>\n",
       "    <tr>\n",
       "      <th>6</th>\n",
       "      <td>...Yahaan</td>\n",
       "      <td>(2005)</td>\n",
       "      <td>142 min</td>\n",
       "      <td>Drama, Romance, War</td>\n",
       "      <td>7.4</td>\n",
       "      <td>1,086</td>\n",
       "      <td>Shoojit Sircar</td>\n",
       "      <td>Jimmy Sheirgill</td>\n",
       "      <td>Minissha Lamba</td>\n",
       "      <td>Yashpal Sharma</td>\n",
       "    </tr>\n",
       "    <tr>\n",
       "      <th>7</th>\n",
       "      <td>.in for Motion</td>\n",
       "      <td>(2008)</td>\n",
       "      <td>59 min</td>\n",
       "      <td>Documentary</td>\n",
       "      <td>NaN</td>\n",
       "      <td>NaN</td>\n",
       "      <td>Anirban Datta</td>\n",
       "      <td>NaN</td>\n",
       "      <td>NaN</td>\n",
       "      <td>NaN</td>\n",
       "    </tr>\n",
       "    <tr>\n",
       "      <th>8</th>\n",
       "      <td>?: A Question Mark</td>\n",
       "      <td>(2012)</td>\n",
       "      <td>82 min</td>\n",
       "      <td>Horror, Mystery, Thriller</td>\n",
       "      <td>5.6</td>\n",
       "      <td>326</td>\n",
       "      <td>Allyson Patel</td>\n",
       "      <td>Yash Dave</td>\n",
       "      <td>Muntazir Ahmad</td>\n",
       "      <td>Kiran Bhatia</td>\n",
       "    </tr>\n",
       "    <tr>\n",
       "      <th>9</th>\n",
       "      <td>@Andheri</td>\n",
       "      <td>(2014)</td>\n",
       "      <td>116 min</td>\n",
       "      <td>Action, Crime, Thriller</td>\n",
       "      <td>4.0</td>\n",
       "      <td>11</td>\n",
       "      <td>Biju Bhaskar Nair</td>\n",
       "      <td>Augustine</td>\n",
       "      <td>Fathima Babu</td>\n",
       "      <td>Byon</td>\n",
       "    </tr>\n",
       "  </tbody>\n",
       "</table>\n",
       "</div>"
      ],
      "text/plain": [
       "                                 Name    Year Duration  \\\n",
       "0                                         NaN      NaN   \n",
       "1  #Gadhvi (He thought he was Gandhi)  (2019)  109 min   \n",
       "2                         #Homecoming  (2021)   90 min   \n",
       "3                             #Yaaram  (2019)  110 min   \n",
       "4                   ...And Once Again  (2010)  105 min   \n",
       "5                ...Aur Pyaar Ho Gaya  (1997)  147 min   \n",
       "6                           ...Yahaan  (2005)  142 min   \n",
       "7                      .in for Motion  (2008)   59 min   \n",
       "8                  ?: A Question Mark  (2012)   82 min   \n",
       "9                            @Andheri  (2014)  116 min   \n",
       "\n",
       "                       Genre  Rating  Votes            Director  \\\n",
       "0                      Drama     NaN    NaN       J.S. Randhawa   \n",
       "1                      Drama     7.0      8       Gaurav Bakshi   \n",
       "2             Drama, Musical     NaN    NaN  Soumyajit Majumdar   \n",
       "3            Comedy, Romance     4.4     35          Ovais Khan   \n",
       "4                      Drama     NaN    NaN        Amol Palekar   \n",
       "5     Comedy, Drama, Musical     4.7    827        Rahul Rawail   \n",
       "6        Drama, Romance, War     7.4  1,086      Shoojit Sircar   \n",
       "7                Documentary     NaN    NaN       Anirban Datta   \n",
       "8  Horror, Mystery, Thriller     5.6    326       Allyson Patel   \n",
       "9    Action, Crime, Thriller     4.0     11   Biju Bhaskar Nair   \n",
       "\n",
       "           Actor 1                 Actor 2          Actor 3  \n",
       "0         Manmauji                  Birbal  Rajendra Bhatia  \n",
       "1     Rasika Dugal          Vivek Ghamande    Arvind Jangid  \n",
       "2     Sayani Gupta       Plabita Borthakur       Roy Angana  \n",
       "3          Prateik              Ishita Raj  Siddhant Kapoor  \n",
       "4     Rajat Kapoor      Rituparna Sengupta      Antara Mali  \n",
       "5       Bobby Deol  Aishwarya Rai Bachchan    Shammi Kapoor  \n",
       "6  Jimmy Sheirgill          Minissha Lamba   Yashpal Sharma  \n",
       "7              NaN                     NaN              NaN  \n",
       "8        Yash Dave          Muntazir Ahmad     Kiran Bhatia  \n",
       "9        Augustine            Fathima Babu             Byon  "
      ]
     },
     "execution_count": 9,
     "metadata": {},
     "output_type": "execute_result"
    }
   ],
   "source": [
    "data.head(10)"
   ]
  },
  {
   "cell_type": "code",
   "execution_count": 6,
   "id": "9340b809",
   "metadata": {},
   "outputs": [
    {
     "name": "stdout",
     "output_type": "stream",
     "text": [
      "<class 'pandas.core.frame.DataFrame'>\n",
      "RangeIndex: 15509 entries, 0 to 15508\n",
      "Data columns (total 10 columns):\n",
      " #   Column    Non-Null Count  Dtype  \n",
      "---  ------    --------------  -----  \n",
      " 0   Name      15509 non-null  object \n",
      " 1   Year      14981 non-null  object \n",
      " 2   Duration  7240 non-null   object \n",
      " 3   Genre     13632 non-null  object \n",
      " 4   Rating    7919 non-null   float64\n",
      " 5   Votes     7920 non-null   object \n",
      " 6   Director  14984 non-null  object \n",
      " 7   Actor 1   13892 non-null  object \n",
      " 8   Actor 2   13125 non-null  object \n",
      " 9   Actor 3   12365 non-null  object \n",
      "dtypes: float64(1), object(9)\n",
      "memory usage: 1.2+ MB\n"
     ]
    }
   ],
   "source": [
    "data.info()"
   ]
  },
  {
   "cell_type": "markdown",
   "id": "722ea1a3",
   "metadata": {},
   "source": [
    "Data summary statistics"
   ]
  },
  {
   "cell_type": "code",
   "execution_count": 7,
   "id": "65e43f50",
   "metadata": {},
   "outputs": [
    {
     "data": {
      "text/html": [
       "<div>\n",
       "<style scoped>\n",
       "    .dataframe tbody tr th:only-of-type {\n",
       "        vertical-align: middle;\n",
       "    }\n",
       "\n",
       "    .dataframe tbody tr th {\n",
       "        vertical-align: top;\n",
       "    }\n",
       "\n",
       "    .dataframe thead th {\n",
       "        text-align: right;\n",
       "    }\n",
       "</style>\n",
       "<table border=\"1\" class=\"dataframe\">\n",
       "  <thead>\n",
       "    <tr style=\"text-align: right;\">\n",
       "      <th></th>\n",
       "      <th>Rating</th>\n",
       "    </tr>\n",
       "  </thead>\n",
       "  <tbody>\n",
       "    <tr>\n",
       "      <th>count</th>\n",
       "      <td>7919.000000</td>\n",
       "    </tr>\n",
       "    <tr>\n",
       "      <th>mean</th>\n",
       "      <td>5.841621</td>\n",
       "    </tr>\n",
       "    <tr>\n",
       "      <th>std</th>\n",
       "      <td>1.381777</td>\n",
       "    </tr>\n",
       "    <tr>\n",
       "      <th>min</th>\n",
       "      <td>1.100000</td>\n",
       "    </tr>\n",
       "    <tr>\n",
       "      <th>25%</th>\n",
       "      <td>4.900000</td>\n",
       "    </tr>\n",
       "    <tr>\n",
       "      <th>50%</th>\n",
       "      <td>6.000000</td>\n",
       "    </tr>\n",
       "    <tr>\n",
       "      <th>75%</th>\n",
       "      <td>6.800000</td>\n",
       "    </tr>\n",
       "    <tr>\n",
       "      <th>max</th>\n",
       "      <td>10.000000</td>\n",
       "    </tr>\n",
       "  </tbody>\n",
       "</table>\n",
       "</div>"
      ],
      "text/plain": [
       "            Rating\n",
       "count  7919.000000\n",
       "mean      5.841621\n",
       "std       1.381777\n",
       "min       1.100000\n",
       "25%       4.900000\n",
       "50%       6.000000\n",
       "75%       6.800000\n",
       "max      10.000000"
      ]
     },
     "execution_count": 7,
     "metadata": {},
     "output_type": "execute_result"
    }
   ],
   "source": [
    "data.describe()"
   ]
  },
  {
   "cell_type": "markdown",
   "id": "29c444aa",
   "metadata": {},
   "source": [
    "Pre-processing EDA"
   ]
  },
  {
   "cell_type": "markdown",
   "id": "b8286bc1",
   "metadata": {},
   "source": [
    "- Dropping redundant values"
   ]
  },
  {
   "cell_type": "code",
   "execution_count": null,
   "id": "075e9433",
   "metadata": {},
   "outputs": [],
   "source": [
    "#Name column"
   ]
  },
  {
   "cell_type": "code",
   "execution_count": 17,
   "id": "b4082b66",
   "metadata": {},
   "outputs": [
    {
     "data": {
      "text/plain": [
       "0                                      \n",
       "1    #Gadhvi (He thought he was Gandhi)\n",
       "2                           #Homecoming\n",
       "Name: Name, dtype: object"
      ]
     },
     "execution_count": 17,
     "metadata": {},
     "output_type": "execute_result"
    }
   ],
   "source": [
    "data.Name[:3] #Name column contains unique and unstructured texts, this we can simply remove the column"
   ]
  },
  {
   "cell_type": "code",
   "execution_count": 19,
   "id": "1e9cdcd5",
   "metadata": {},
   "outputs": [],
   "source": [
    "data.drop(columns=[\"Name\"], inplace=True)"
   ]
  },
  {
   "cell_type": "markdown",
   "id": "a0661577",
   "metadata": {},
   "source": [
    "- Null value processing"
   ]
  },
  {
   "cell_type": "code",
   "execution_count": 24,
   "id": "51d03fce",
   "metadata": {},
   "outputs": [
    {
     "data": {
      "text/plain": [
       "Year         3.404475\n",
       "Duration    53.317429\n",
       "Genre       12.102650\n",
       "Rating      48.939326\n",
       "Votes       48.932878\n",
       "Director     3.385131\n",
       "Actor 1     10.426204\n",
       "Actor 2     15.371720\n",
       "Actor 3     20.272100\n",
       "dtype: float64"
      ]
     },
     "execution_count": 24,
     "metadata": {},
     "output_type": "execute_result"
    }
   ],
   "source": [
    "data.isnull().sum()/len(data)*100"
   ]
  },
  {
   "cell_type": "code",
   "execution_count": null,
   "id": "5df1423e",
   "metadata": {},
   "outputs": [],
   "source": [
    "#Duration column "
   ]
  },
  {
   "cell_type": "code",
   "execution_count": 45,
   "id": "85f82db3",
   "metadata": {},
   "outputs": [],
   "source": [
    "durations = data[data.Duration.notna()].Duration"
   ]
  },
  {
   "cell_type": "code",
   "execution_count": 51,
   "id": "4125f30f",
   "metadata": {},
   "outputs": [
    {
     "data": {
      "text/plain": [
       "1    109 min\n",
       "2     90 min\n",
       "3    110 min\n",
       "Name: Duration, dtype: object"
      ]
     },
     "execution_count": 51,
     "metadata": {},
     "output_type": "execute_result"
    }
   ],
   "source": [
    "durations[:3]"
   ]
  },
  {
   "cell_type": "code",
   "execution_count": 47,
   "id": "0510b889",
   "metadata": {},
   "outputs": [],
   "source": [
    "def format_duration(dur):\n",
    "    return int(dur.split()[0])"
   ]
  },
  {
   "cell_type": "code",
   "execution_count": 54,
   "id": "75bd85df",
   "metadata": {},
   "outputs": [
    {
     "data": {
      "text/plain": [
       "128"
      ]
     },
     "execution_count": 54,
     "metadata": {},
     "output_type": "execute_result"
    }
   ],
   "source": [
    "avg_duration = int(durations.apply(format_duration).mean())\n",
    "avg_duration"
   ]
  },
  {
   "cell_type": "code",
   "execution_count": 56,
   "id": "5965da7a",
   "metadata": {},
   "outputs": [],
   "source": [
    "data.Duration.fillna(f\"{avg_duration} min\", inplace=True)"
   ]
  },
  {
   "cell_type": "code",
   "execution_count": 58,
   "id": "7c4bbbe5",
   "metadata": {},
   "outputs": [
    {
     "data": {
      "text/plain": [
       "0"
      ]
     },
     "execution_count": 58,
     "metadata": {},
     "output_type": "execute_result"
    }
   ],
   "source": [
    "data.Duration.isnull().sum() #Thus null values of duration column processed"
   ]
  },
  {
   "cell_type": "code",
   "execution_count": 64,
   "id": "adaa0ea4",
   "metadata": {},
   "outputs": [],
   "source": [
    "#Rating column : fill with average rating\n",
    "data.Rating.fillna(np.round(data.Rating.mean(),1), inplace=True)"
   ]
  },
  {
   "cell_type": "code",
   "execution_count": 79,
   "id": "7eff4f38",
   "metadata": {},
   "outputs": [],
   "source": [
    "#Votes column : fill with average votes\n",
    "votes = data[data.Votes.notna()].Votes"
   ]
  },
  {
   "cell_type": "code",
   "execution_count": 99,
   "id": "c077b615",
   "metadata": {},
   "outputs": [
    {
     "data": {
      "text/plain": [
       "1        8\n",
       "3       35\n",
       "5      827\n",
       "6    1,086\n",
       "8      326\n",
       "Name: Votes, dtype: object"
      ]
     },
     "execution_count": 99,
     "metadata": {},
     "output_type": "execute_result"
    }
   ],
   "source": [
    "votes[:5]"
   ]
  },
  {
   "cell_type": "code",
   "execution_count": 106,
   "id": "8a89f390",
   "metadata": {},
   "outputs": [],
   "source": [
    "#Beacuse '$5.16M', '1,223'\n",
    "def format_votes(vote):\n",
    "    if re.fullmatch(\"(\\d+\\,\\d+)|\\d+\",vote):\n",
    "        if \",\" in vote:\n",
    "            vote = int(re.sub(\",\",\"\",vote))\n",
    "            return vote\n",
    "        return int(vote)"
   ]
  },
  {
   "cell_type": "code",
   "execution_count": 136,
   "id": "d5ba06c7",
   "metadata": {},
   "outputs": [
    {
     "data": {
      "text/plain": [
       "'1,938'"
      ]
     },
     "execution_count": 136,
     "metadata": {},
     "output_type": "execute_result"
    }
   ],
   "source": [
    "review = list(str(votes.apply(format_votes).mean()).split(\".\")[0])\n",
    "review.insert(1,\",\")\n",
    "avg_value = \"\".join(review)\n",
    "avg_value"
   ]
  },
  {
   "cell_type": "code",
   "execution_count": 142,
   "id": "cf6236cb",
   "metadata": {},
   "outputs": [],
   "source": [
    "data.Votes.replace({'$5.16M':np.nan}, inplace=True)"
   ]
  },
  {
   "cell_type": "code",
   "execution_count": 143,
   "id": "490b3263",
   "metadata": {},
   "outputs": [],
   "source": [
    "data.Votes.fillna(avg_value, inplace=True)"
   ]
  },
  {
   "cell_type": "code",
   "execution_count": 144,
   "id": "54dca165",
   "metadata": {},
   "outputs": [
    {
     "data": {
      "text/plain": [
       "0"
      ]
     },
     "execution_count": 144,
     "metadata": {},
     "output_type": "execute_result"
    }
   ],
   "source": [
    "data.Votes.isnull().sum()"
   ]
  },
  {
   "cell_type": "code",
   "execution_count": 150,
   "id": "703a1a86",
   "metadata": {},
   "outputs": [
    {
     "data": {
      "text/plain": [
       "Year         528\n",
       "Duration       0\n",
       "Genre       1877\n",
       "Rating         0\n",
       "Votes          0\n",
       "Director     525\n",
       "Actor 1     1617\n",
       "Actor 2     2384\n",
       "Actor 3     3144\n",
       "dtype: int64"
      ]
     },
     "execution_count": 150,
     "metadata": {},
     "output_type": "execute_result"
    }
   ],
   "source": [
    "data.isnull().sum() #Since rest of the colunms do not have null values more than 20%, we will simply drop them "
   ]
  },
  {
   "cell_type": "code",
   "execution_count": 151,
   "id": "e8416d1a",
   "metadata": {},
   "outputs": [],
   "source": [
    "data.dropna(inplace=True)"
   ]
  },
  {
   "cell_type": "code",
   "execution_count": 152,
   "id": "c97a846a",
   "metadata": {},
   "outputs": [
    {
     "data": {
      "text/plain": [
       "0"
      ]
     },
     "execution_count": 152,
     "metadata": {},
     "output_type": "execute_result"
    }
   ],
   "source": [
    "data.isnull().sum().sum() #removed all the null values"
   ]
  },
  {
   "cell_type": "markdown",
   "id": "c8f9f5a9",
   "metadata": {},
   "source": [
    "- Formatting data"
   ]
  },
  {
   "cell_type": "code",
   "execution_count": 153,
   "id": "ab307c7b",
   "metadata": {},
   "outputs": [
    {
     "data": {
      "text/html": [
       "<div>\n",
       "<style scoped>\n",
       "    .dataframe tbody tr th:only-of-type {\n",
       "        vertical-align: middle;\n",
       "    }\n",
       "\n",
       "    .dataframe tbody tr th {\n",
       "        vertical-align: top;\n",
       "    }\n",
       "\n",
       "    .dataframe thead th {\n",
       "        text-align: right;\n",
       "    }\n",
       "</style>\n",
       "<table border=\"1\" class=\"dataframe\">\n",
       "  <thead>\n",
       "    <tr style=\"text-align: right;\">\n",
       "      <th></th>\n",
       "      <th>Year</th>\n",
       "      <th>Duration</th>\n",
       "      <th>Genre</th>\n",
       "      <th>Rating</th>\n",
       "      <th>Votes</th>\n",
       "      <th>Director</th>\n",
       "      <th>Actor 1</th>\n",
       "      <th>Actor 2</th>\n",
       "      <th>Actor 3</th>\n",
       "    </tr>\n",
       "  </thead>\n",
       "  <tbody>\n",
       "    <tr>\n",
       "      <th>1</th>\n",
       "      <td>(2019)</td>\n",
       "      <td>109 min</td>\n",
       "      <td>Drama</td>\n",
       "      <td>7.0</td>\n",
       "      <td>8</td>\n",
       "      <td>Gaurav Bakshi</td>\n",
       "      <td>Rasika Dugal</td>\n",
       "      <td>Vivek Ghamande</td>\n",
       "      <td>Arvind Jangid</td>\n",
       "    </tr>\n",
       "    <tr>\n",
       "      <th>2</th>\n",
       "      <td>(2021)</td>\n",
       "      <td>90 min</td>\n",
       "      <td>Drama, Musical</td>\n",
       "      <td>5.8</td>\n",
       "      <td>1,938</td>\n",
       "      <td>Soumyajit Majumdar</td>\n",
       "      <td>Sayani Gupta</td>\n",
       "      <td>Plabita Borthakur</td>\n",
       "      <td>Roy Angana</td>\n",
       "    </tr>\n",
       "    <tr>\n",
       "      <th>3</th>\n",
       "      <td>(2019)</td>\n",
       "      <td>110 min</td>\n",
       "      <td>Comedy, Romance</td>\n",
       "      <td>4.4</td>\n",
       "      <td>35</td>\n",
       "      <td>Ovais Khan</td>\n",
       "      <td>Prateik</td>\n",
       "      <td>Ishita Raj</td>\n",
       "      <td>Siddhant Kapoor</td>\n",
       "    </tr>\n",
       "    <tr>\n",
       "      <th>4</th>\n",
       "      <td>(2010)</td>\n",
       "      <td>105 min</td>\n",
       "      <td>Drama</td>\n",
       "      <td>5.8</td>\n",
       "      <td>1,938</td>\n",
       "      <td>Amol Palekar</td>\n",
       "      <td>Rajat Kapoor</td>\n",
       "      <td>Rituparna Sengupta</td>\n",
       "      <td>Antara Mali</td>\n",
       "    </tr>\n",
       "    <tr>\n",
       "      <th>5</th>\n",
       "      <td>(1997)</td>\n",
       "      <td>147 min</td>\n",
       "      <td>Comedy, Drama, Musical</td>\n",
       "      <td>4.7</td>\n",
       "      <td>827</td>\n",
       "      <td>Rahul Rawail</td>\n",
       "      <td>Bobby Deol</td>\n",
       "      <td>Aishwarya Rai Bachchan</td>\n",
       "      <td>Shammi Kapoor</td>\n",
       "    </tr>\n",
       "  </tbody>\n",
       "</table>\n",
       "</div>"
      ],
      "text/plain": [
       "     Year Duration                   Genre  Rating  Votes            Director  \\\n",
       "1  (2019)  109 min                   Drama     7.0      8       Gaurav Bakshi   \n",
       "2  (2021)   90 min          Drama, Musical     5.8  1,938  Soumyajit Majumdar   \n",
       "3  (2019)  110 min         Comedy, Romance     4.4     35          Ovais Khan   \n",
       "4  (2010)  105 min                   Drama     5.8  1,938        Amol Palekar   \n",
       "5  (1997)  147 min  Comedy, Drama, Musical     4.7    827        Rahul Rawail   \n",
       "\n",
       "        Actor 1                 Actor 2          Actor 3  \n",
       "1  Rasika Dugal          Vivek Ghamande    Arvind Jangid  \n",
       "2  Sayani Gupta       Plabita Borthakur       Roy Angana  \n",
       "3       Prateik              Ishita Raj  Siddhant Kapoor  \n",
       "4  Rajat Kapoor      Rituparna Sengupta      Antara Mali  \n",
       "5    Bobby Deol  Aishwarya Rai Bachchan    Shammi Kapoor  "
      ]
     },
     "execution_count": 153,
     "metadata": {},
     "output_type": "execute_result"
    }
   ],
   "source": [
    "data.head()"
   ]
  },
  {
   "cell_type": "code",
   "execution_count": 154,
   "id": "77394f73",
   "metadata": {},
   "outputs": [],
   "source": [
    "#Year column"
   ]
  },
  {
   "cell_type": "code",
   "execution_count": 157,
   "id": "e2e563b9",
   "metadata": {},
   "outputs": [],
   "source": [
    "def format_year(year):\n",
    "    year = year[1:-1]\n",
    "    return int(year)"
   ]
  },
  {
   "cell_type": "code",
   "execution_count": 159,
   "id": "a205a8cf",
   "metadata": {},
   "outputs": [],
   "source": [
    "data.Year = data.Year.apply(format_year)"
   ]
  },
  {
   "cell_type": "code",
   "execution_count": 160,
   "id": "83fd945c",
   "metadata": {},
   "outputs": [],
   "source": [
    "#Duration column\n",
    "data.Duration = data.Duration.apply(format_duration)"
   ]
  },
  {
   "cell_type": "code",
   "execution_count": 161,
   "id": "fef151cd",
   "metadata": {},
   "outputs": [],
   "source": [
    "#Votes column\n",
    "data.Votes = data.Votes.apply(format_votes)"
   ]
  },
  {
   "cell_type": "code",
   "execution_count": 162,
   "id": "2fd01441",
   "metadata": {},
   "outputs": [
    {
     "data": {
      "text/html": [
       "<div>\n",
       "<style scoped>\n",
       "    .dataframe tbody tr th:only-of-type {\n",
       "        vertical-align: middle;\n",
       "    }\n",
       "\n",
       "    .dataframe tbody tr th {\n",
       "        vertical-align: top;\n",
       "    }\n",
       "\n",
       "    .dataframe thead th {\n",
       "        text-align: right;\n",
       "    }\n",
       "</style>\n",
       "<table border=\"1\" class=\"dataframe\">\n",
       "  <thead>\n",
       "    <tr style=\"text-align: right;\">\n",
       "      <th></th>\n",
       "      <th>Year</th>\n",
       "      <th>Duration</th>\n",
       "      <th>Genre</th>\n",
       "      <th>Rating</th>\n",
       "      <th>Votes</th>\n",
       "      <th>Director</th>\n",
       "      <th>Actor 1</th>\n",
       "      <th>Actor 2</th>\n",
       "      <th>Actor 3</th>\n",
       "    </tr>\n",
       "  </thead>\n",
       "  <tbody>\n",
       "    <tr>\n",
       "      <th>1</th>\n",
       "      <td>2019</td>\n",
       "      <td>109</td>\n",
       "      <td>Drama</td>\n",
       "      <td>7.0</td>\n",
       "      <td>8</td>\n",
       "      <td>Gaurav Bakshi</td>\n",
       "      <td>Rasika Dugal</td>\n",
       "      <td>Vivek Ghamande</td>\n",
       "      <td>Arvind Jangid</td>\n",
       "    </tr>\n",
       "    <tr>\n",
       "      <th>2</th>\n",
       "      <td>2021</td>\n",
       "      <td>90</td>\n",
       "      <td>Drama, Musical</td>\n",
       "      <td>5.8</td>\n",
       "      <td>1938</td>\n",
       "      <td>Soumyajit Majumdar</td>\n",
       "      <td>Sayani Gupta</td>\n",
       "      <td>Plabita Borthakur</td>\n",
       "      <td>Roy Angana</td>\n",
       "    </tr>\n",
       "    <tr>\n",
       "      <th>3</th>\n",
       "      <td>2019</td>\n",
       "      <td>110</td>\n",
       "      <td>Comedy, Romance</td>\n",
       "      <td>4.4</td>\n",
       "      <td>35</td>\n",
       "      <td>Ovais Khan</td>\n",
       "      <td>Prateik</td>\n",
       "      <td>Ishita Raj</td>\n",
       "      <td>Siddhant Kapoor</td>\n",
       "    </tr>\n",
       "    <tr>\n",
       "      <th>4</th>\n",
       "      <td>2010</td>\n",
       "      <td>105</td>\n",
       "      <td>Drama</td>\n",
       "      <td>5.8</td>\n",
       "      <td>1938</td>\n",
       "      <td>Amol Palekar</td>\n",
       "      <td>Rajat Kapoor</td>\n",
       "      <td>Rituparna Sengupta</td>\n",
       "      <td>Antara Mali</td>\n",
       "    </tr>\n",
       "    <tr>\n",
       "      <th>5</th>\n",
       "      <td>1997</td>\n",
       "      <td>147</td>\n",
       "      <td>Comedy, Drama, Musical</td>\n",
       "      <td>4.7</td>\n",
       "      <td>827</td>\n",
       "      <td>Rahul Rawail</td>\n",
       "      <td>Bobby Deol</td>\n",
       "      <td>Aishwarya Rai Bachchan</td>\n",
       "      <td>Shammi Kapoor</td>\n",
       "    </tr>\n",
       "  </tbody>\n",
       "</table>\n",
       "</div>"
      ],
      "text/plain": [
       "   Year  Duration                   Genre  Rating  Votes            Director  \\\n",
       "1  2019       109                   Drama     7.0      8       Gaurav Bakshi   \n",
       "2  2021        90          Drama, Musical     5.8   1938  Soumyajit Majumdar   \n",
       "3  2019       110         Comedy, Romance     4.4     35          Ovais Khan   \n",
       "4  2010       105                   Drama     5.8   1938        Amol Palekar   \n",
       "5  1997       147  Comedy, Drama, Musical     4.7    827        Rahul Rawail   \n",
       "\n",
       "        Actor 1                 Actor 2          Actor 3  \n",
       "1  Rasika Dugal          Vivek Ghamande    Arvind Jangid  \n",
       "2  Sayani Gupta       Plabita Borthakur       Roy Angana  \n",
       "3       Prateik              Ishita Raj  Siddhant Kapoor  \n",
       "4  Rajat Kapoor      Rituparna Sengupta      Antara Mali  \n",
       "5    Bobby Deol  Aishwarya Rai Bachchan    Shammi Kapoor  "
      ]
     },
     "execution_count": 162,
     "metadata": {},
     "output_type": "execute_result"
    }
   ],
   "source": [
    "data.head()"
   ]
  },
  {
   "cell_type": "markdown",
   "id": "f82e3df6",
   "metadata": {},
   "source": [
    "- Scaling numerical data"
   ]
  },
  {
   "cell_type": "code",
   "execution_count": 172,
   "id": "41951679",
   "metadata": {},
   "outputs": [],
   "source": [
    "columns = [\"Duration\", \"Votes\"]"
   ]
  },
  {
   "cell_type": "code",
   "execution_count": 176,
   "id": "00a94fc8",
   "metadata": {},
   "outputs": [
    {
     "data": {
      "image/png": "[encoded data removed]",
      "text/plain": [
       "<Figure size 648x360 with 2 Axes>"
      ]
     },
     "metadata": {
      "needs_background": "light"
     },
     "output_type": "display_data"
    }
   ],
   "source": [
    "plt.figure(figsize=(9,5))\n",
    "for i in range(len(columns)):\n",
    "    plt.subplot(1,2,i+1)\n",
    "    sns.kdeplot(x=data[columns[i]])\n",
    "plt.suptitle(\"Before Scaling\", fontsize=15)\n",
    "plt.tight_layout()"
   ]
  },
  {
   "cell_type": "code",
   "execution_count": 177,
   "id": "f22a1163",
   "metadata": {},
   "outputs": [],
   "source": [
    "pipeline = Pipeline([\n",
    "    (\"Standard scaler\",StandardScaler()),\n",
    "    (\"Robust scaler\", RobustScaler())\n",
    "])"
   ]
  },
  {
   "cell_type": "code",
   "execution_count": 178,
   "id": "28141a16",
   "metadata": {},
   "outputs": [],
   "source": [
    "data[columns] = pipeline.fit_transform(data[columns])"
   ]
  },
  {
   "cell_type": "code",
   "execution_count": 179,
   "id": "3e4d18a9",
   "metadata": {},
   "outputs": [
    {
     "data": {
      "image/png": "[encoded data removed]",
      "text/plain": [
       "<Figure size 648x360 with 2 Axes>"
      ]
     },
     "metadata": {
      "needs_background": "light"
     },
     "output_type": "display_data"
    }
   ],
   "source": [
    "plt.figure(figsize=(9,5))\n",
    "for i in range(len(columns)):\n",
    "    plt.subplot(1,2,i+1)\n",
    "    sns.kdeplot(x=data[columns[i]])\n",
    "plt.suptitle(\"After Scaling\", fontsize=15)\n",
    "plt.tight_layout()"
   ]
  },
  {
   "cell_type": "markdown",
   "id": "db6bf106",
   "metadata": {},
   "source": [
    "- Encoding Data"
   ]
  },
  {
   "cell_type": "code",
   "execution_count": 180,
   "id": "6e30adaf",
   "metadata": {},
   "outputs": [
    {
     "data": {
      "text/html": [
       "<div>\n",
       "<style scoped>\n",
       "    .dataframe tbody tr th:only-of-type {\n",
       "        vertical-align: middle;\n",
       "    }\n",
       "\n",
       "    .dataframe tbody tr th {\n",
       "        vertical-align: top;\n",
       "    }\n",
       "\n",
       "    .dataframe thead th {\n",
       "        text-align: right;\n",
       "    }\n",
       "</style>\n",
       "<table border=\"1\" class=\"dataframe\">\n",
       "  <thead>\n",
       "    <tr style=\"text-align: right;\">\n",
       "      <th></th>\n",
       "      <th>Year</th>\n",
       "      <th>Duration</th>\n",
       "      <th>Genre</th>\n",
       "      <th>Rating</th>\n",
       "      <th>Votes</th>\n",
       "      <th>Director</th>\n",
       "      <th>Actor 1</th>\n",
       "      <th>Actor 2</th>\n",
       "      <th>Actor 3</th>\n",
       "    </tr>\n",
       "  </thead>\n",
       "  <tbody>\n",
       "    <tr>\n",
       "      <th>1</th>\n",
       "      <td>2019</td>\n",
       "      <td>-2.111111</td>\n",
       "      <td>Drama</td>\n",
       "      <td>7.0</td>\n",
       "      <td>-0.196644</td>\n",
       "      <td>Gaurav Bakshi</td>\n",
       "      <td>Rasika Dugal</td>\n",
       "      <td>Vivek Ghamande</td>\n",
       "      <td>Arvind Jangid</td>\n",
       "    </tr>\n",
       "    <tr>\n",
       "      <th>2</th>\n",
       "      <td>2021</td>\n",
       "      <td>-4.222222</td>\n",
       "      <td>Drama, Musical</td>\n",
       "      <td>5.8</td>\n",
       "      <td>0.815417</td>\n",
       "      <td>Soumyajit Majumdar</td>\n",
       "      <td>Sayani Gupta</td>\n",
       "      <td>Plabita Borthakur</td>\n",
       "      <td>Roy Angana</td>\n",
       "    </tr>\n",
       "    <tr>\n",
       "      <th>3</th>\n",
       "      <td>2019</td>\n",
       "      <td>-2.000000</td>\n",
       "      <td>Comedy, Romance</td>\n",
       "      <td>4.4</td>\n",
       "      <td>-0.182486</td>\n",
       "      <td>Ovais Khan</td>\n",
       "      <td>Prateik</td>\n",
       "      <td>Ishita Raj</td>\n",
       "      <td>Siddhant Kapoor</td>\n",
       "    </tr>\n",
       "  </tbody>\n",
       "</table>\n",
       "</div>"
      ],
      "text/plain": [
       "   Year  Duration            Genre  Rating     Votes            Director  \\\n",
       "1  2019 -2.111111            Drama     7.0 -0.196644       Gaurav Bakshi   \n",
       "2  2021 -4.222222   Drama, Musical     5.8  0.815417  Soumyajit Majumdar   \n",
       "3  2019 -2.000000  Comedy, Romance     4.4 -0.182486          Ovais Khan   \n",
       "\n",
       "        Actor 1            Actor 2          Actor 3  \n",
       "1  Rasika Dugal     Vivek Ghamande    Arvind Jangid  \n",
       "2  Sayani Gupta  Plabita Borthakur       Roy Angana  \n",
       "3       Prateik         Ishita Raj  Siddhant Kapoor  "
      ]
     },
     "execution_count": 180,
     "metadata": {},
     "output_type": "execute_result"
    }
   ],
   "source": [
    "data.head(3)"
   ]
  },
  {
   "cell_type": "code",
   "execution_count": 181,
   "id": "a5b54e9e",
   "metadata": {},
   "outputs": [],
   "source": [
    "columns = ['Genre','Director','Actor 1','Actor 2','Actor 3']"
   ]
  },
  {
   "cell_type": "code",
   "execution_count": 182,
   "id": "55d72050",
   "metadata": {},
   "outputs": [],
   "source": [
    "for col in columns:\n",
    "    le = LabelEncoder()\n",
    "    data[col] = le.fit_transform(data[col])"
   ]
  },
  {
   "cell_type": "code",
   "execution_count": 183,
   "id": "319ed2e2",
   "metadata": {},
   "outputs": [
    {
     "data": {
      "text/html": [
       "<div>\n",
       "<style scoped>\n",
       "    .dataframe tbody tr th:only-of-type {\n",
       "        vertical-align: middle;\n",
       "    }\n",
       "\n",
       "    .dataframe tbody tr th {\n",
       "        vertical-align: top;\n",
       "    }\n",
       "\n",
       "    .dataframe thead th {\n",
       "        text-align: right;\n",
       "    }\n",
       "</style>\n",
       "<table border=\"1\" class=\"dataframe\">\n",
       "  <thead>\n",
       "    <tr style=\"text-align: right;\">\n",
       "      <th></th>\n",
       "      <th>Year</th>\n",
       "      <th>Duration</th>\n",
       "      <th>Genre</th>\n",
       "      <th>Rating</th>\n",
       "      <th>Votes</th>\n",
       "      <th>Director</th>\n",
       "      <th>Actor 1</th>\n",
       "      <th>Actor 2</th>\n",
       "      <th>Actor 3</th>\n",
       "    </tr>\n",
       "  </thead>\n",
       "  <tbody>\n",
       "    <tr>\n",
       "      <th>1</th>\n",
       "      <td>2019</td>\n",
       "      <td>-2.111111</td>\n",
       "      <td>272</td>\n",
       "      <td>7.0</td>\n",
       "      <td>-0.196644</td>\n",
       "      <td>1177</td>\n",
       "      <td>2638</td>\n",
       "      <td>4089</td>\n",
       "      <td>498</td>\n",
       "    </tr>\n",
       "    <tr>\n",
       "      <th>2</th>\n",
       "      <td>2021</td>\n",
       "      <td>-4.222222</td>\n",
       "      <td>323</td>\n",
       "      <td>5.8</td>\n",
       "      <td>0.815417</td>\n",
       "      <td>3897</td>\n",
       "      <td>2986</td>\n",
       "      <td>2465</td>\n",
       "      <td>3147</td>\n",
       "    </tr>\n",
       "    <tr>\n",
       "      <th>3</th>\n",
       "      <td>2019</td>\n",
       "      <td>-2.000000</td>\n",
       "      <td>219</td>\n",
       "      <td>4.4</td>\n",
       "      <td>-0.182486</td>\n",
       "      <td>2523</td>\n",
       "      <td>2346</td>\n",
       "      <td>1291</td>\n",
       "      <td>3672</td>\n",
       "    </tr>\n",
       "    <tr>\n",
       "      <th>4</th>\n",
       "      <td>2010</td>\n",
       "      <td>-2.555556</td>\n",
       "      <td>272</td>\n",
       "      <td>5.8</td>\n",
       "      <td>0.815417</td>\n",
       "      <td>299</td>\n",
       "      <td>2504</td>\n",
       "      <td>2980</td>\n",
       "      <td>382</td>\n",
       "    </tr>\n",
       "    <tr>\n",
       "      <th>5</th>\n",
       "      <td>1997</td>\n",
       "      <td>2.111111</td>\n",
       "      <td>188</td>\n",
       "      <td>4.7</td>\n",
       "      <td>0.232826</td>\n",
       "      <td>2901</td>\n",
       "      <td>742</td>\n",
       "      <td>109</td>\n",
       "      <td>3496</td>\n",
       "    </tr>\n",
       "  </tbody>\n",
       "</table>\n",
       "</div>"
      ],
      "text/plain": [
       "   Year  Duration  Genre  Rating     Votes  Director  Actor 1  Actor 2  \\\n",
       "1  2019 -2.111111    272     7.0 -0.196644      1177     2638     4089   \n",
       "2  2021 -4.222222    323     5.8  0.815417      3897     2986     2465   \n",
       "3  2019 -2.000000    219     4.4 -0.182486      2523     2346     1291   \n",
       "4  2010 -2.555556    272     5.8  0.815417       299     2504     2980   \n",
       "5  1997  2.111111    188     4.7  0.232826      2901      742      109   \n",
       "\n",
       "   Actor 3  \n",
       "1      498  \n",
       "2     3147  \n",
       "3     3672  \n",
       "4      382  \n",
       "5     3496  "
      ]
     },
     "execution_count": 183,
     "metadata": {},
     "output_type": "execute_result"
    }
   ],
   "source": [
    "data.head()"
   ]
  },
  {
   "cell_type": "markdown",
   "id": "c5596899",
   "metadata": {},
   "source": [
    "Data Splitting "
   ]
  },
  {
   "cell_type": "code",
   "execution_count": 184,
   "id": "e4bed39b",
   "metadata": {},
   "outputs": [
    {
     "data": {
      "text/plain": [
       "((11086, 8), (11086,))"
      ]
     },
     "execution_count": 184,
     "metadata": {},
     "output_type": "execute_result"
    }
   ],
   "source": [
    "X = data.drop(columns=[\"Rating\"])\n",
    "y = data[\"Rating\"]\n",
    "X.shape, y.shape"
   ]
  },
  {
   "cell_type": "code",
   "execution_count": 185,
   "id": "3dc6c114",
   "metadata": {},
   "outputs": [],
   "source": [
    "X_train, X_test, y_train, y_test = train_test_split(X,y)"
   ]
  },
  {
   "cell_type": "markdown",
   "id": "e82a3f61",
   "metadata": {},
   "source": [
    "Model Selection"
   ]
  },
  {
   "cell_type": "markdown",
   "id": "1cb476e5",
   "metadata": {},
   "source": [
    "- Model training"
   ]
  },
  {
   "cell_type": "code",
   "execution_count": 186,
   "id": "655d889f",
   "metadata": {},
   "outputs": [],
   "source": [
    "#Linear regresssion model\n",
    "linear_model = LinearRegression().fit(X_train, y_train)\n",
    "\n",
    "#Random forest model\n",
    "rf_model = RandomForestRegressor().fit(X_train, y_train)\n",
    "\n",
    "#Gradient boosting model\n",
    "gb_model = GradientBoostingRegressor().fit(X_train, y_train)"
   ]
  },
  {
   "cell_type": "markdown",
   "id": "bc9f696c",
   "metadata": {},
   "source": [
    "- Making predictions"
   ]
  },
  {
   "cell_type": "code",
   "execution_count": 187,
   "id": "9ffe7eb9",
   "metadata": {},
   "outputs": [],
   "source": [
    "#Linear regresssion predictions\n",
    "linear_preds = linear_model.predict(X_test)\n",
    "\n",
    "#Random forest predictions\n",
    "rf_preds = rf_model.predict(X_test)\n",
    "\n",
    "#Gradient boosting predictions\n",
    "gb_preds = gb_model.predict(X_test)"
   ]
  },
  {
   "cell_type": "markdown",
   "id": "b32945d6",
   "metadata": {},
   "source": [
    "Model Evaluation "
   ]
  },
  {
   "cell_type": "code",
   "execution_count": 188,
   "id": "d9975b7e",
   "metadata": {},
   "outputs": [],
   "source": [
    "def evaluate(model_name, y_preds, y_test=y_test):\n",
    "    plt.figure(figsize=(10, 5))\n",
    "    # Scatter plot of actual vs. predicted values\n",
    "    plt.subplot(1, 2, 1)\n",
    "    plt.scatter(y_test, y_preds)\n",
    "    plt.xlabel('Actual Values')\n",
    "    plt.ylabel('Predicted Values')\n",
    "    plt.title('Actual vs. Predicted Values')\n",
    "\n",
    "    # Residual plot : Plot the residuals (the differences between actual and predicted values) against the predicted values. This helps you identify patterns or trends in the errors.\n",
    "    plt.subplot(1, 2, 2)\n",
    "    residuals = y_test - y_preds\n",
    "    plt.scatter(y_preds, residuals)\n",
    "    plt.axhline(y=0, color='r', linestyle='--')\n",
    "    plt.xlabel('Predicted Values')\n",
    "    plt.ylabel('Residuals')\n",
    "    plt.title('Residual Plot')\n",
    "\n",
    "    plt.tight_layout()\n",
    "    plt.show()\n",
    "\n",
    "    # Error Metrics\n",
    "    mse = mean_squared_error(y_test, y_preds)\n",
    "    rmse = np.sqrt(mse)\n",
    "    mae = mean_absolute_error(y_test, y_preds)\n",
    "    r2 = r2_score(y_test, y_preds)\n",
    "    print(f\"Model : {model_name}\")\n",
    "    print(f'Mean Squared Error (MSE): {mse:.2f}')\n",
    "    print(f'Root Mean Squared Error (RMSE): {rmse:.2f}')\n",
    "    print(f'Mean Absolute Error (MAE): {mae:.2f}')\n",
    "    print(f'R-squared (R2): {r2:.2f}')"
   ]
  },
  {
   "cell_type": "code",
   "execution_count": 189,
   "id": "6bb43e06",
   "metadata": {},
   "outputs": [
    {
     "data": {
      "image/png": "[encoded data removed]",
      "text/plain": [
       "<Figure size 720x360 with 2 Axes>"
      ]
     },
     "metadata": {
      "needs_background": "light"
     },
     "output_type": "display_data"
    },
    {
     "name": "stdout",
     "output_type": "stream",
     "text": [
      "Model : Linear regression\n",
      "Mean Squared Error (MSE): 1.38\n",
      "Root Mean Squared Error (RMSE): 1.18\n",
      "Mean Absolute Error (MAE): 0.80\n",
      "R-squared (R2): -0.06\n"
     ]
    }
   ],
   "source": [
    "evaluate(\"Linear regression\",linear_preds)"
   ]
  },
  {
   "cell_type": "code",
   "execution_count": 190,
   "id": "c3d5df2f",
   "metadata": {},
   "outputs": [
    {
     "data": {
      "image/png": "[encoded data removed]",
      "text/plain": [
       "<Figure size 720x360 with 2 Axes>"
      ]
     },
     "metadata": {
      "needs_background": "light"
     },
     "output_type": "display_data"
    },
    {
     "name": "stdout",
     "output_type": "stream",
     "text": [
      "Model : random forest\n",
      "Mean Squared Error (MSE): 0.89\n",
      "Root Mean Squared Error (RMSE): 0.94\n",
      "Mean Absolute Error (MAE): 0.60\n",
      "R-squared (R2): 0.32\n"
     ]
    }
   ],
   "source": [
    "evaluate(\"random forest\",rf_preds)"
   ]
  },
  {
   "cell_type": "code",
   "execution_count": 191,
   "id": "db4e4df6",
   "metadata": {},
   "outputs": [
    {
     "data": {
      "image/png": "[encoded data removed]",
      "text/plain": [
       "<Figure size 720x360 with 2 Axes>"
      ]
     },
     "metadata": {
      "needs_background": "light"
     },
     "output_type": "display_data"
    },
    {
     "name": "stdout",
     "output_type": "stream",
     "text": [
      "Model : gradient boosting\n",
      "Mean Squared Error (MSE): 0.89\n",
      "Root Mean Squared Error (RMSE): 0.94\n",
      "Mean Absolute Error (MAE): 0.63\n",
      "R-squared (R2): 0.32\n"
     ]
    }
   ],
   "source": [
    "evaluate(\"gradient boosting\", gb_preds)"
   ]
  },
  {
   "cell_type": "markdown",
   "id": "027c4573",
   "metadata": {},
   "source": [
    "Conclusion "
   ]
  },
  {
   "cell_type": "markdown",
   "id": "06719a1d",
   "metadata": {},
   "source": [
    "- Random forest is giving the best results"
   ]
  }
 ],
 "metadata": {
  "kernelspec": {
   "display_name": "Python 3 (ipykernel)",
   "language": "python",
   "name": "python3"
  },
  "language_info": {
   "codemirror_mode": {
    "name": "ipython",
    "version": 3
   },
   "file_extension": ".py",
   "mimetype": "text/x-python",
   "name": "python",
   "nbconvert_exporter": "python",
   "pygments_lexer": "ipython3",
   "version": "3.10.0"
  }
 },
 "nbformat": 4,
 "nbformat_minor": 5
}
