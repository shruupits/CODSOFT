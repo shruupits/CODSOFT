{
 "cells": [
  {
   "cell_type": "markdown",
   "id": "d18f9fbe",
   "metadata": {},
   "source": [
    "### Task 3 : Iris Flower Classification"
   ]
  },
  {
   "cell_type": "markdown",
   "id": "53fd921a",
   "metadata": {},
   "source": [
    "Importing required modules"
   ]
  },
  {
   "cell_type": "code",
   "execution_count": 47,
   "id": "c8f65e06",
   "metadata": {},
   "outputs": [],
   "source": [
    "import numpy as np\n",
    "import pandas as pd\n",
    "\n",
    "import seaborn as sns\n",
    "import matplotlib.pyplot as plt\n",
    "\n",
    "from sklearn.preprocessing import StandardScaler, RobustScaler\n",
    "from sklearn.pipeline import Pipeline\n",
    "from sklearn.preprocessing import LabelEncoder\n",
    "from sklearn.model_selection import train_test_split\n",
    "from sklearn.linear_model import LogisticRegression\n",
    "from sklearn.ensemble import RandomForestClassifier, GradientBoostingClassifier\n",
    "from sklearn.metrics import accuracy_score, precision_score, recall_score, confusion_matrix, classification_report, f1_score\n",
    "\n",
    "import warnings\n",
    "warnings.filterwarnings(\"ignore\")\n",
    "\n",
    "%matplotlib inline"
   ]
  },
  {
   "cell_type": "markdown",
   "id": "e714e6e8",
   "metadata": {},
   "source": [
    "Loading data"
   ]
  },
  {
   "cell_type": "code",
   "execution_count": 2,
   "id": "0a9c7604",
   "metadata": {},
   "outputs": [],
   "source": [
    "dataset = pd.read_csv(\"IRIS.csv\")\n",
    "data = dataset.copy()"
   ]
  },
  {
   "cell_type": "markdown",
   "id": "34f50513",
   "metadata": {},
   "source": [
    "Data inspection"
   ]
  },
  {
   "cell_type": "code",
   "execution_count": 3,
   "id": "efb01dc1",
   "metadata": {},
   "outputs": [
    {
     "data": {
      "text/html": [
       "<div>\n",
       "<style scoped>\n",
       "    .dataframe tbody tr th:only-of-type {\n",
       "        vertical-align: middle;\n",
       "    }\n",
       "\n",
       "    .dataframe tbody tr th {\n",
       "        vertical-align: top;\n",
       "    }\n",
       "\n",
       "    .dataframe thead th {\n",
       "        text-align: right;\n",
       "    }\n",
       "</style>\n",
       "<table border=\"1\" class=\"dataframe\">\n",
       "  <thead>\n",
       "    <tr style=\"text-align: right;\">\n",
       "      <th></th>\n",
       "      <th>sepal_length</th>\n",
       "      <th>sepal_width</th>\n",
       "      <th>petal_length</th>\n",
       "      <th>petal_width</th>\n",
       "      <th>species</th>\n",
       "    </tr>\n",
       "  </thead>\n",
       "  <tbody>\n",
       "    <tr>\n",
       "      <th>0</th>\n",
       "      <td>5.1</td>\n",
       "      <td>3.5</td>\n",
       "      <td>1.4</td>\n",
       "      <td>0.2</td>\n",
       "      <td>Iris-setosa</td>\n",
       "    </tr>\n",
       "    <tr>\n",
       "      <th>1</th>\n",
       "      <td>4.9</td>\n",
       "      <td>3.0</td>\n",
       "      <td>1.4</td>\n",
       "      <td>0.2</td>\n",
       "      <td>Iris-setosa</td>\n",
       "    </tr>\n",
       "    <tr>\n",
       "      <th>2</th>\n",
       "      <td>4.7</td>\n",
       "      <td>3.2</td>\n",
       "      <td>1.3</td>\n",
       "      <td>0.2</td>\n",
       "      <td>Iris-setosa</td>\n",
       "    </tr>\n",
       "    <tr>\n",
       "      <th>3</th>\n",
       "      <td>4.6</td>\n",
       "      <td>3.1</td>\n",
       "      <td>1.5</td>\n",
       "      <td>0.2</td>\n",
       "      <td>Iris-setosa</td>\n",
       "    </tr>\n",
       "  </tbody>\n",
       "</table>\n",
       "</div>"
      ],
      "text/plain": [
       "   sepal_length  sepal_width  petal_length  petal_width      species\n",
       "0           5.1          3.5           1.4          0.2  Iris-setosa\n",
       "1           4.9          3.0           1.4          0.2  Iris-setosa\n",
       "2           4.7          3.2           1.3          0.2  Iris-setosa\n",
       "3           4.6          3.1           1.5          0.2  Iris-setosa"
      ]
     },
     "execution_count": 3,
     "metadata": {},
     "output_type": "execute_result"
    }
   ],
   "source": [
    "data.head(4)"
   ]
  },
  {
   "cell_type": "code",
   "execution_count": 4,
   "id": "9340b809",
   "metadata": {},
   "outputs": [
    {
     "name": "stdout",
     "output_type": "stream",
     "text": [
      "<class 'pandas.core.frame.DataFrame'>\n",
      "RangeIndex: 150 entries, 0 to 149\n",
      "Data columns (total 5 columns):\n",
      " #   Column        Non-Null Count  Dtype  \n",
      "---  ------        --------------  -----  \n",
      " 0   sepal_length  150 non-null    float64\n",
      " 1   sepal_width   150 non-null    float64\n",
      " 2   petal_length  150 non-null    float64\n",
      " 3   petal_width   150 non-null    float64\n",
      " 4   species       150 non-null    object \n",
      "dtypes: float64(4), object(1)\n",
      "memory usage: 6.0+ KB\n"
     ]
    }
   ],
   "source": [
    "data.info()"
   ]
  },
  {
   "cell_type": "markdown",
   "id": "722ea1a3",
   "metadata": {},
   "source": [
    "Data summary statistics"
   ]
  },
  {
   "cell_type": "code",
   "execution_count": 5,
   "id": "65e43f50",
   "metadata": {},
   "outputs": [
    {
     "data": {
      "text/html": [
       "<div>\n",
       "<style scoped>\n",
       "    .dataframe tbody tr th:only-of-type {\n",
       "        vertical-align: middle;\n",
       "    }\n",
       "\n",
       "    .dataframe tbody tr th {\n",
       "        vertical-align: top;\n",
       "    }\n",
       "\n",
       "    .dataframe thead th {\n",
       "        text-align: right;\n",
       "    }\n",
       "</style>\n",
       "<table border=\"1\" class=\"dataframe\">\n",
       "  <thead>\n",
       "    <tr style=\"text-align: right;\">\n",
       "      <th></th>\n",
       "      <th>sepal_length</th>\n",
       "      <th>sepal_width</th>\n",
       "      <th>petal_length</th>\n",
       "      <th>petal_width</th>\n",
       "    </tr>\n",
       "  </thead>\n",
       "  <tbody>\n",
       "    <tr>\n",
       "      <th>count</th>\n",
       "      <td>150.000000</td>\n",
       "      <td>150.000000</td>\n",
       "      <td>150.000000</td>\n",
       "      <td>150.000000</td>\n",
       "    </tr>\n",
       "    <tr>\n",
       "      <th>mean</th>\n",
       "      <td>5.843333</td>\n",
       "      <td>3.054000</td>\n",
       "      <td>3.758667</td>\n",
       "      <td>1.198667</td>\n",
       "    </tr>\n",
       "    <tr>\n",
       "      <th>std</th>\n",
       "      <td>0.828066</td>\n",
       "      <td>0.433594</td>\n",
       "      <td>1.764420</td>\n",
       "      <td>0.763161</td>\n",
       "    </tr>\n",
       "    <tr>\n",
       "      <th>min</th>\n",
       "      <td>4.300000</td>\n",
       "      <td>2.000000</td>\n",
       "      <td>1.000000</td>\n",
       "      <td>0.100000</td>\n",
       "    </tr>\n",
       "    <tr>\n",
       "      <th>25%</th>\n",
       "      <td>5.100000</td>\n",
       "      <td>2.800000</td>\n",
       "      <td>1.600000</td>\n",
       "      <td>0.300000</td>\n",
       "    </tr>\n",
       "    <tr>\n",
       "      <th>50%</th>\n",
       "      <td>5.800000</td>\n",
       "      <td>3.000000</td>\n",
       "      <td>4.350000</td>\n",
       "      <td>1.300000</td>\n",
       "    </tr>\n",
       "    <tr>\n",
       "      <th>75%</th>\n",
       "      <td>6.400000</td>\n",
       "      <td>3.300000</td>\n",
       "      <td>5.100000</td>\n",
       "      <td>1.800000</td>\n",
       "    </tr>\n",
       "    <tr>\n",
       "      <th>max</th>\n",
       "      <td>7.900000</td>\n",
       "      <td>4.400000</td>\n",
       "      <td>6.900000</td>\n",
       "      <td>2.500000</td>\n",
       "    </tr>\n",
       "  </tbody>\n",
       "</table>\n",
       "</div>"
      ],
      "text/plain": [
       "       sepal_length  sepal_width  petal_length  petal_width\n",
       "count    150.000000   150.000000    150.000000   150.000000\n",
       "mean       5.843333     3.054000      3.758667     1.198667\n",
       "std        0.828066     0.433594      1.764420     0.763161\n",
       "min        4.300000     2.000000      1.000000     0.100000\n",
       "25%        5.100000     2.800000      1.600000     0.300000\n",
       "50%        5.800000     3.000000      4.350000     1.300000\n",
       "75%        6.400000     3.300000      5.100000     1.800000\n",
       "max        7.900000     4.400000      6.900000     2.500000"
      ]
     },
     "execution_count": 5,
     "metadata": {},
     "output_type": "execute_result"
    }
   ],
   "source": [
    "data.describe()"
   ]
  },
  {
   "cell_type": "markdown",
   "id": "29c444aa",
   "metadata": {},
   "source": [
    "Pre-processing EDA"
   ]
  },
  {
   "cell_type": "code",
   "execution_count": 6,
   "id": "ea299ad4",
   "metadata": {},
   "outputs": [
    {
     "data": {
      "image/png": "[encoded data removed]",
      "text/plain": [
       "<Figure size 864x360 with 1 Axes>"
      ]
     },
     "metadata": {
      "needs_background": "light"
     },
     "output_type": "display_data"
    }
   ],
   "source": [
    "plt.figure(figsize=(12,5))\n",
    "data.boxplot()\n",
    "plt.show()"
   ]
  },
  {
   "cell_type": "markdown",
   "id": "6b6bbdd7",
   "metadata": {},
   "source": [
    "Data pre-processing "
   ]
  },
  {
   "cell_type": "code",
   "execution_count": 7,
   "id": "9350a837",
   "metadata": {},
   "outputs": [
    {
     "data": {
      "text/html": [
       "<div>\n",
       "<style scoped>\n",
       "    .dataframe tbody tr th:only-of-type {\n",
       "        vertical-align: middle;\n",
       "    }\n",
       "\n",
       "    .dataframe tbody tr th {\n",
       "        vertical-align: top;\n",
       "    }\n",
       "\n",
       "    .dataframe thead th {\n",
       "        text-align: right;\n",
       "    }\n",
       "</style>\n",
       "<table border=\"1\" class=\"dataframe\">\n",
       "  <thead>\n",
       "    <tr style=\"text-align: right;\">\n",
       "      <th></th>\n",
       "      <th>sepal_length</th>\n",
       "      <th>sepal_width</th>\n",
       "      <th>petal_length</th>\n",
       "      <th>petal_width</th>\n",
       "      <th>species</th>\n",
       "    </tr>\n",
       "  </thead>\n",
       "  <tbody>\n",
       "    <tr>\n",
       "      <th>0</th>\n",
       "      <td>5.1</td>\n",
       "      <td>3.5</td>\n",
       "      <td>1.4</td>\n",
       "      <td>0.2</td>\n",
       "      <td>Iris-setosa</td>\n",
       "    </tr>\n",
       "    <tr>\n",
       "      <th>1</th>\n",
       "      <td>4.9</td>\n",
       "      <td>3.0</td>\n",
       "      <td>1.4</td>\n",
       "      <td>0.2</td>\n",
       "      <td>Iris-setosa</td>\n",
       "    </tr>\n",
       "    <tr>\n",
       "      <th>2</th>\n",
       "      <td>4.7</td>\n",
       "      <td>3.2</td>\n",
       "      <td>1.3</td>\n",
       "      <td>0.2</td>\n",
       "      <td>Iris-setosa</td>\n",
       "    </tr>\n",
       "    <tr>\n",
       "      <th>3</th>\n",
       "      <td>4.6</td>\n",
       "      <td>3.1</td>\n",
       "      <td>1.5</td>\n",
       "      <td>0.2</td>\n",
       "      <td>Iris-setosa</td>\n",
       "    </tr>\n",
       "    <tr>\n",
       "      <th>4</th>\n",
       "      <td>5.0</td>\n",
       "      <td>3.6</td>\n",
       "      <td>1.4</td>\n",
       "      <td>0.2</td>\n",
       "      <td>Iris-setosa</td>\n",
       "    </tr>\n",
       "  </tbody>\n",
       "</table>\n",
       "</div>"
      ],
      "text/plain": [
       "   sepal_length  sepal_width  petal_length  petal_width      species\n",
       "0           5.1          3.5           1.4          0.2  Iris-setosa\n",
       "1           4.9          3.0           1.4          0.2  Iris-setosa\n",
       "2           4.7          3.2           1.3          0.2  Iris-setosa\n",
       "3           4.6          3.1           1.5          0.2  Iris-setosa\n",
       "4           5.0          3.6           1.4          0.2  Iris-setosa"
      ]
     },
     "execution_count": 7,
     "metadata": {},
     "output_type": "execute_result"
    }
   ],
   "source": [
    "data.head()"
   ]
  },
  {
   "cell_type": "markdown",
   "id": "f82e3df6",
   "metadata": {},
   "source": [
    "- Scaling numerical data"
   ]
  },
  {
   "cell_type": "code",
   "execution_count": 8,
   "id": "9235c5de",
   "metadata": {},
   "outputs": [
    {
     "data": {
      "text/plain": [
       "Index(['sepal_length', 'sepal_width', 'petal_length', 'petal_width',\n",
       "       'species'],\n",
       "      dtype='object')"
      ]
     },
     "execution_count": 8,
     "metadata": {},
     "output_type": "execute_result"
    }
   ],
   "source": [
    "data.columns"
   ]
  },
  {
   "cell_type": "code",
   "execution_count": 9,
   "id": "41951679",
   "metadata": {},
   "outputs": [],
   "source": [
    "columns = [\"sepal_length\", \"sepal_width\", \"petal_length\", \"petal_width\"]"
   ]
  },
  {
   "cell_type": "code",
   "execution_count": 12,
   "id": "00a94fc8",
   "metadata": {},
   "outputs": [
    {
     "data": {
      "image/png": "[encoded data removed]",
      "text/plain": [
       "<Figure size 936x288 with 4 Axes>"
      ]
     },
     "metadata": {
      "needs_background": "light"
     },
     "output_type": "display_data"
    }
   ],
   "source": [
    "plt.figure(figsize=(13,4))\n",
    "for i in range(len(columns)):\n",
    "    plt.subplot(1,4,i+1)\n",
    "    sns.kdeplot(x=data[columns[i]])\n",
    "plt.suptitle(\"Before Scaling\", fontsize=15)\n",
    "plt.tight_layout()"
   ]
  },
  {
   "cell_type": "code",
   "execution_count": 13,
   "id": "f22a1163",
   "metadata": {},
   "outputs": [],
   "source": [
    "pipeline = Pipeline([\n",
    "    (\"Standard scaler\",StandardScaler()),\n",
    "    (\"Robust scaler\", RobustScaler())\n",
    "])"
   ]
  },
  {
   "cell_type": "code",
   "execution_count": 14,
   "id": "28141a16",
   "metadata": {},
   "outputs": [],
   "source": [
    "data[columns] = pipeline.fit_transform(data[columns])"
   ]
  },
  {
   "cell_type": "code",
   "execution_count": 15,
   "id": "3e4d18a9",
   "metadata": {},
   "outputs": [
    {
     "data": {
      "image/png": "[encoded data removed]",
      "text/plain": [
       "<Figure size 936x288 with 4 Axes>"
      ]
     },
     "metadata": {
      "needs_background": "light"
     },
     "output_type": "display_data"
    }
   ],
   "source": [
    "plt.figure(figsize=(13,4))\n",
    "for i in range(len(columns)):\n",
    "    plt.subplot(1,4,i+1)\n",
    "    sns.kdeplot(x=data[columns[i]])\n",
    "plt.suptitle(\"After Scaling\", fontsize=15)\n",
    "plt.tight_layout()"
   ]
  },
  {
   "cell_type": "markdown",
   "id": "c5596899",
   "metadata": {},
   "source": [
    "Data Splitting "
   ]
  },
  {
   "cell_type": "code",
   "execution_count": 16,
   "id": "e4bed39b",
   "metadata": {},
   "outputs": [
    {
     "data": {
      "text/plain": [
       "((150, 4), (150,))"
      ]
     },
     "execution_count": 16,
     "metadata": {},
     "output_type": "execute_result"
    }
   ],
   "source": [
    "X = data.drop(columns=[\"species\"])\n",
    "y = data[\"species\"]\n",
    "X.shape, y.shape"
   ]
  },
  {
   "cell_type": "code",
   "execution_count": 17,
   "id": "3dc6c114",
   "metadata": {},
   "outputs": [],
   "source": [
    "X_train, X_test, y_train, y_test = train_test_split(X,y)"
   ]
  },
  {
   "cell_type": "markdown",
   "id": "e82a3f61",
   "metadata": {},
   "source": [
    "Model Selection"
   ]
  },
  {
   "cell_type": "markdown",
   "id": "1cb476e5",
   "metadata": {},
   "source": [
    "- Model training"
   ]
  },
  {
   "cell_type": "code",
   "execution_count": 20,
   "id": "655d889f",
   "metadata": {},
   "outputs": [],
   "source": [
    "#Linear regresssion model\n",
    "linear_model = LogisticRegression().fit(X_train, y_train)\n",
    "\n",
    "#Random forest model\n",
    "rf_model = RandomForestClassifier().fit(X_train, y_train)\n",
    "\n",
    "#Gradient boosting model\n",
    "gb_model = GradientBoostingClassifier().fit(X_train, y_train)"
   ]
  },
  {
   "cell_type": "markdown",
   "id": "bc9f696c",
   "metadata": {},
   "source": [
    "- Making predictions"
   ]
  },
  {
   "cell_type": "code",
   "execution_count": 21,
   "id": "9ffe7eb9",
   "metadata": {},
   "outputs": [],
   "source": [
    "#Linear regresssion predictions\n",
    "linear_preds = linear_model.predict(X_test)\n",
    "\n",
    "#Random forest predictions\n",
    "rf_preds = rf_model.predict(X_test)\n",
    "\n",
    "#Gradient boosting predictions\n",
    "gb_preds = gb_model.predict(X_test)"
   ]
  },
  {
   "cell_type": "markdown",
   "id": "b32945d6",
   "metadata": {},
   "source": [
    "Model Evaluation "
   ]
  },
  {
   "cell_type": "code",
   "execution_count": 58,
   "id": "d9975b7e",
   "metadata": {},
   "outputs": [],
   "source": [
    "def evaluate(model_name, y_preds, y_test=y_test):\n",
    "    # Error Metrics\n",
    "    acc = accuracy_score(y_test, y_preds)\n",
    "    recall = recall_score(y_test, y_preds,average=\"weighted\" )\n",
    "    precision = precision_score(y_test, y_preds,average=\"weighted\" )\n",
    "    f1 = f1_score(y_test, y_preds,average=\"weighted\" )\n",
    "    print(f\"Model : {model_name}\")\n",
    "    print(f'accuracy_score: {acc:.2f}')\n",
    "    print(f'recall_score: {recall:.2f}')\n",
    "    print(f'precision_score: {precision:.2f}')\n",
    "    print(f'f1_score: {f1:.2f}\\n')\n",
    "    print(f\"Confusion matrix: \\n{confusion_matrix(y_test, y_preds)}\")\n",
    "    print(\"\\nClassification report:\")\n",
    "    print(classification_report(y_test, y_preds))"
   ]
  },
  {
   "cell_type": "code",
   "execution_count": 59,
   "id": "6bb43e06",
   "metadata": {},
   "outputs": [
    {
     "name": "stdout",
     "output_type": "stream",
     "text": [
      "Model : Linear regression\n",
      "accuracy_score: 0.92\n",
      "recall_score: 0.92\n",
      "precision_score: 0.93\n",
      "f1_score: 0.92\n",
      "\n",
      "Confusion matrix: \n",
      "[[15  1  0]\n",
      " [ 0  8  1]\n",
      " [ 0  1 12]]\n",
      "\n",
      "Classification report:\n",
      "                 precision    recall  f1-score   support\n",
      "\n",
      "    Iris-setosa       1.00      0.94      0.97        16\n",
      "Iris-versicolor       0.80      0.89      0.84         9\n",
      " Iris-virginica       0.92      0.92      0.92        13\n",
      "\n",
      "       accuracy                           0.92        38\n",
      "      macro avg       0.91      0.92      0.91        38\n",
      "   weighted avg       0.93      0.92      0.92        38\n",
      "\n"
     ]
    }
   ],
   "source": [
    "evaluate(\"Linear regression\",linear_preds)"
   ]
  },
  {
   "cell_type": "code",
   "execution_count": 60,
   "id": "c3d5df2f",
   "metadata": {},
   "outputs": [
    {
     "name": "stdout",
     "output_type": "stream",
     "text": [
      "Model : random forest\n",
      "accuracy_score: 0.95\n",
      "recall_score: 0.95\n",
      "precision_score: 0.95\n",
      "f1_score: 0.95\n",
      "\n",
      "Confusion matrix: \n",
      "[[16  0  0]\n",
      " [ 0  8  1]\n",
      " [ 0  1 12]]\n",
      "\n",
      "Classification report:\n",
      "                 precision    recall  f1-score   support\n",
      "\n",
      "    Iris-setosa       1.00      1.00      1.00        16\n",
      "Iris-versicolor       0.89      0.89      0.89         9\n",
      " Iris-virginica       0.92      0.92      0.92        13\n",
      "\n",
      "       accuracy                           0.95        38\n",
      "      macro avg       0.94      0.94      0.94        38\n",
      "   weighted avg       0.95      0.95      0.95        38\n",
      "\n"
     ]
    }
   ],
   "source": [
    "evaluate(\"random forest\",rf_preds)"
   ]
  },
  {
   "cell_type": "code",
   "execution_count": 61,
   "id": "db4e4df6",
   "metadata": {},
   "outputs": [
    {
     "name": "stdout",
     "output_type": "stream",
     "text": [
      "Model : gradient boosting\n",
      "accuracy_score: 0.95\n",
      "recall_score: 0.95\n",
      "precision_score: 0.95\n",
      "f1_score: 0.95\n",
      "\n",
      "Confusion matrix: \n",
      "[[16  0  0]\n",
      " [ 0  8  1]\n",
      " [ 0  1 12]]\n",
      "\n",
      "Classification report:\n",
      "                 precision    recall  f1-score   support\n",
      "\n",
      "    Iris-setosa       1.00      1.00      1.00        16\n",
      "Iris-versicolor       0.89      0.89      0.89         9\n",
      " Iris-virginica       0.92      0.92      0.92        13\n",
      "\n",
      "       accuracy                           0.95        38\n",
      "      macro avg       0.94      0.94      0.94        38\n",
      "   weighted avg       0.95      0.95      0.95        38\n",
      "\n"
     ]
    }
   ],
   "source": [
    "evaluate(\"gradient boosting\", gb_preds)"
   ]
  },
  {
   "cell_type": "markdown",
   "id": "027c4573",
   "metadata": {},
   "source": [
    "Conclusion "
   ]
  },
  {
   "cell_type": "markdown",
   "id": "06719a1d",
   "metadata": {},
   "source": [
    "- Random forest and Gradient boosting are giving the best results"
   ]
  }
 ],
 "metadata": {
  "kernelspec": {
   "display_name": "Python 3 (ipykernel)",
   "language": "python",
   "name": "python3"
  },
  "language_info": {
   "codemirror_mode": {
    "name": "ipython",
    "version": 3
   },
   "file_extension": ".py",
   "mimetype": "text/x-python",
   "name": "python",
   "nbconvert_exporter": "python",
   "pygments_lexer": "ipython3",
   "version": "3.10.0"
  }
 },
 "nbformat": 4,
 "nbformat_minor": 5
}
