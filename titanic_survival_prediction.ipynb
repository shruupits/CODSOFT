{
 "cells": [
  {
   "cell_type": "markdown",
   "id": "d18f9fbe",
   "metadata": {},
   "source": [
    "### Task 1 : Titanic Survival Prediction"
   ]
  },
  {
   "cell_type": "markdown",
   "id": "53fd921a",
   "metadata": {},
   "source": [
    "Importing required modules"
   ]
  },
  {
   "cell_type": "code",
   "execution_count": 39,
   "id": "c8f65e06",
   "metadata": {},
   "outputs": [],
   "source": [
    "import numpy as np\n",
    "import pandas as pd\n",
    "\n",
    "import seaborn as sns\n",
    "import matplotlib.pyplot as plt\n",
    "\n",
    "from sklearn.preprocessing import StandardScaler, RobustScaler\n",
    "from sklearn.pipeline import Pipeline\n",
    "from sklearn.preprocessing import LabelEncoder\n",
    "from sklearn.model_selection import train_test_split\n",
    "from sklearn.linear_model import LinearRegression\n",
    "from sklearn.ensemble import RandomForestRegressor, GradientBoostingRegressor\n",
    "from sklearn.metrics import mean_squared_error, mean_absolute_error, r2_score\n",
    "\n",
    "\n",
    "import warnings\n",
    "warnings.filterwarnings(\"ignore\")\n",
    "\n",
    "%matplotlib inline"
   ]
  },
  {
   "cell_type": "markdown",
   "id": "e714e6e8",
   "metadata": {},
   "source": [
    "Loading data"
   ]
  },
  {
   "cell_type": "code",
   "execution_count": 2,
   "id": "0a9c7604",
   "metadata": {},
   "outputs": [],
   "source": [
    "dataset = pd.read_csv(\"format1.csv\", parse_dates=[\"Date\",\"Time\"])\n",
    "data = dataset.copy()"
   ]
  },
  {
   "cell_type": "markdown",
   "id": "34f50513",
   "metadata": {},
   "source": [
    "Data inspection"
   ]
  },
  {
   "cell_type": "code",
   "execution_count": 3,
   "id": "efb01dc1",
   "metadata": {},
   "outputs": [
    {
     "data": {
      "text/html": [
       "<div>\n",
       "<style scoped>\n",
       "    .dataframe tbody tr th:only-of-type {\n",
       "        vertical-align: middle;\n",
       "    }\n",
       "\n",
       "    .dataframe tbody tr th {\n",
       "        vertical-align: top;\n",
       "    }\n",
       "\n",
       "    .dataframe thead th {\n",
       "        text-align: right;\n",
       "    }\n",
       "</style>\n",
       "<table border=\"1\" class=\"dataframe\">\n",
       "  <thead>\n",
       "    <tr style=\"text-align: right;\">\n",
       "      <th></th>\n",
       "      <th>Branch</th>\n",
       "      <th>City</th>\n",
       "      <th>Customer type</th>\n",
       "      <th>Gender</th>\n",
       "      <th>Product line</th>\n",
       "      <th>Unit price</th>\n",
       "      <th>Quantity</th>\n",
       "      <th>Tax 5%</th>\n",
       "      <th>Total</th>\n",
       "      <th>Date</th>\n",
       "      <th>Time</th>\n",
       "      <th>Payment</th>\n",
       "      <th>cogs</th>\n",
       "      <th>gross margin percentage</th>\n",
       "      <th>gross income</th>\n",
       "      <th>Rating</th>\n",
       "    </tr>\n",
       "  </thead>\n",
       "  <tbody>\n",
       "    <tr>\n",
       "      <th>0</th>\n",
       "      <td>A</td>\n",
       "      <td>Yangon</td>\n",
       "      <td>Member</td>\n",
       "      <td>Female</td>\n",
       "      <td>Health and beauty</td>\n",
       "      <td>74.69</td>\n",
       "      <td>7</td>\n",
       "      <td>26.1415</td>\n",
       "      <td>548.9715</td>\n",
       "      <td>2019-01-05</td>\n",
       "      <td>2023-12-15 13:08:00</td>\n",
       "      <td>Ewallet</td>\n",
       "      <td>522.83</td>\n",
       "      <td>4.761905</td>\n",
       "      <td>26.1415</td>\n",
       "      <td>9.1</td>\n",
       "    </tr>\n",
       "    <tr>\n",
       "      <th>1</th>\n",
       "      <td>C</td>\n",
       "      <td>Naypyitaw</td>\n",
       "      <td>Normal</td>\n",
       "      <td>Female</td>\n",
       "      <td>Electronic accessories</td>\n",
       "      <td>15.28</td>\n",
       "      <td>5</td>\n",
       "      <td>3.8200</td>\n",
       "      <td>80.2200</td>\n",
       "      <td>2019-03-08</td>\n",
       "      <td>2023-12-15 10:29:00</td>\n",
       "      <td>Cash</td>\n",
       "      <td>76.40</td>\n",
       "      <td>4.761905</td>\n",
       "      <td>3.8200</td>\n",
       "      <td>9.6</td>\n",
       "    </tr>\n",
       "    <tr>\n",
       "      <th>2</th>\n",
       "      <td>A</td>\n",
       "      <td>Yangon</td>\n",
       "      <td>Normal</td>\n",
       "      <td>Male</td>\n",
       "      <td>Home and lifestyle</td>\n",
       "      <td>46.33</td>\n",
       "      <td>7</td>\n",
       "      <td>16.2155</td>\n",
       "      <td>340.5255</td>\n",
       "      <td>2019-03-03</td>\n",
       "      <td>2023-12-15 13:23:00</td>\n",
       "      <td>Credit card</td>\n",
       "      <td>324.31</td>\n",
       "      <td>4.761905</td>\n",
       "      <td>16.2155</td>\n",
       "      <td>7.4</td>\n",
       "    </tr>\n",
       "    <tr>\n",
       "      <th>3</th>\n",
       "      <td>A</td>\n",
       "      <td>Yangon</td>\n",
       "      <td>Member</td>\n",
       "      <td>Male</td>\n",
       "      <td>Health and beauty</td>\n",
       "      <td>58.22</td>\n",
       "      <td>8</td>\n",
       "      <td>23.2880</td>\n",
       "      <td>489.0480</td>\n",
       "      <td>2019-01-27</td>\n",
       "      <td>2023-12-15 20:33:00</td>\n",
       "      <td>Ewallet</td>\n",
       "      <td>465.76</td>\n",
       "      <td>4.761905</td>\n",
       "      <td>23.2880</td>\n",
       "      <td>8.4</td>\n",
       "    </tr>\n",
       "  </tbody>\n",
       "</table>\n",
       "</div>"
      ],
      "text/plain": [
       "  Branch       City Customer type  Gender            Product line  Unit price  \\\n",
       "0      A     Yangon        Member  Female       Health and beauty       74.69   \n",
       "1      C  Naypyitaw        Normal  Female  Electronic accessories       15.28   \n",
       "2      A     Yangon        Normal    Male      Home and lifestyle       46.33   \n",
       "3      A     Yangon        Member    Male       Health and beauty       58.22   \n",
       "\n",
       "   Quantity   Tax 5%     Total       Date                Time      Payment  \\\n",
       "0         7  26.1415  548.9715 2019-01-05 2023-12-15 13:08:00      Ewallet   \n",
       "1         5   3.8200   80.2200 2019-03-08 2023-12-15 10:29:00         Cash   \n",
       "2         7  16.2155  340.5255 2019-03-03 2023-12-15 13:23:00  Credit card   \n",
       "3         8  23.2880  489.0480 2019-01-27 2023-12-15 20:33:00      Ewallet   \n",
       "\n",
       "     cogs  gross margin percentage  gross income  Rating  \n",
       "0  522.83                 4.761905       26.1415     9.1  \n",
       "1   76.40                 4.761905        3.8200     9.6  \n",
       "2  324.31                 4.761905       16.2155     7.4  \n",
       "3  465.76                 4.761905       23.2880     8.4  "
      ]
     },
     "execution_count": 3,
     "metadata": {},
     "output_type": "execute_result"
    }
   ],
   "source": [
    "data.head(4)"
   ]
  },
  {
   "cell_type": "code",
   "execution_count": 4,
   "id": "9340b809",
   "metadata": {},
   "outputs": [
    {
     "name": "stdout",
     "output_type": "stream",
     "text": [
      "<class 'pandas.core.frame.DataFrame'>\n",
      "RangeIndex: 351 entries, 0 to 350\n",
      "Data columns (total 16 columns):\n",
      " #   Column                   Non-Null Count  Dtype         \n",
      "---  ------                   --------------  -----         \n",
      " 0   Branch                   351 non-null    object        \n",
      " 1   City                     351 non-null    object        \n",
      " 2   Customer type            351 non-null    object        \n",
      " 3   Gender                   351 non-null    object        \n",
      " 4   Product line             351 non-null    object        \n",
      " 5   Unit price               351 non-null    float64       \n",
      " 6   Quantity                 351 non-null    int64         \n",
      " 7   Tax 5%                   351 non-null    float64       \n",
      " 8   Total                    351 non-null    float64       \n",
      " 9   Date                     351 non-null    datetime64[ns]\n",
      " 10  Time                     351 non-null    datetime64[ns]\n",
      " 11  Payment                  351 non-null    object        \n",
      " 12  cogs                     351 non-null    float64       \n",
      " 13  gross margin percentage  351 non-null    float64       \n",
      " 14  gross income             351 non-null    float64       \n",
      " 15  Rating                   351 non-null    float64       \n",
      "dtypes: datetime64[ns](2), float64(7), int64(1), object(6)\n",
      "memory usage: 44.0+ KB\n"
     ]
    }
   ],
   "source": [
    "data.info()"
   ]
  },
  {
   "cell_type": "markdown",
   "id": "722ea1a3",
   "metadata": {},
   "source": [
    "Data summary statistics"
   ]
  },
  {
   "cell_type": "code",
   "execution_count": 5,
   "id": "65e43f50",
   "metadata": {},
   "outputs": [
    {
     "data": {
      "text/html": [
       "<div>\n",
       "<style scoped>\n",
       "    .dataframe tbody tr th:only-of-type {\n",
       "        vertical-align: middle;\n",
       "    }\n",
       "\n",
       "    .dataframe tbody tr th {\n",
       "        vertical-align: top;\n",
       "    }\n",
       "\n",
       "    .dataframe thead th {\n",
       "        text-align: right;\n",
       "    }\n",
       "</style>\n",
       "<table border=\"1\" class=\"dataframe\">\n",
       "  <thead>\n",
       "    <tr style=\"text-align: right;\">\n",
       "      <th></th>\n",
       "      <th>Unit price</th>\n",
       "      <th>Quantity</th>\n",
       "      <th>Tax 5%</th>\n",
       "      <th>Total</th>\n",
       "      <th>cogs</th>\n",
       "      <th>gross margin percentage</th>\n",
       "      <th>gross income</th>\n",
       "      <th>Rating</th>\n",
       "    </tr>\n",
       "  </thead>\n",
       "  <tbody>\n",
       "    <tr>\n",
       "      <th>count</th>\n",
       "      <td>351.000000</td>\n",
       "      <td>351.000000</td>\n",
       "      <td>351.000000</td>\n",
       "      <td>351.000000</td>\n",
       "      <td>351.000000</td>\n",
       "      <td>351.000000</td>\n",
       "      <td>351.000000</td>\n",
       "      <td>351.000000</td>\n",
       "    </tr>\n",
       "    <tr>\n",
       "      <th>mean</th>\n",
       "      <td>55.944473</td>\n",
       "      <td>5.783476</td>\n",
       "      <td>16.329231</td>\n",
       "      <td>342.913846</td>\n",
       "      <td>326.584615</td>\n",
       "      <td>4.761905</td>\n",
       "      <td>16.329231</td>\n",
       "      <td>6.947009</td>\n",
       "    </tr>\n",
       "    <tr>\n",
       "      <th>std</th>\n",
       "      <td>27.088309</td>\n",
       "      <td>2.841300</td>\n",
       "      <td>11.955002</td>\n",
       "      <td>251.055049</td>\n",
       "      <td>239.100046</td>\n",
       "      <td>0.000000</td>\n",
       "      <td>11.955002</td>\n",
       "      <td>1.725386</td>\n",
       "    </tr>\n",
       "    <tr>\n",
       "      <th>min</th>\n",
       "      <td>10.590000</td>\n",
       "      <td>1.000000</td>\n",
       "      <td>0.627000</td>\n",
       "      <td>13.167000</td>\n",
       "      <td>12.540000</td>\n",
       "      <td>4.761905</td>\n",
       "      <td>0.627000</td>\n",
       "      <td>4.000000</td>\n",
       "    </tr>\n",
       "    <tr>\n",
       "      <th>25%</th>\n",
       "      <td>31.990000</td>\n",
       "      <td>4.000000</td>\n",
       "      <td>6.841500</td>\n",
       "      <td>143.671500</td>\n",
       "      <td>136.830000</td>\n",
       "      <td>4.761905</td>\n",
       "      <td>6.841500</td>\n",
       "      <td>5.500000</td>\n",
       "    </tr>\n",
       "    <tr>\n",
       "      <th>50%</th>\n",
       "      <td>55.730000</td>\n",
       "      <td>6.000000</td>\n",
       "      <td>13.228000</td>\n",
       "      <td>277.788000</td>\n",
       "      <td>264.560000</td>\n",
       "      <td>4.761905</td>\n",
       "      <td>13.228000</td>\n",
       "      <td>6.900000</td>\n",
       "    </tr>\n",
       "    <tr>\n",
       "      <th>75%</th>\n",
       "      <td>78.465000</td>\n",
       "      <td>8.000000</td>\n",
       "      <td>24.052250</td>\n",
       "      <td>505.097250</td>\n",
       "      <td>481.045000</td>\n",
       "      <td>4.761905</td>\n",
       "      <td>24.052250</td>\n",
       "      <td>8.400000</td>\n",
       "    </tr>\n",
       "    <tr>\n",
       "      <th>max</th>\n",
       "      <td>99.960000</td>\n",
       "      <td>10.000000</td>\n",
       "      <td>49.650000</td>\n",
       "      <td>1042.650000</td>\n",
       "      <td>993.000000</td>\n",
       "      <td>4.761905</td>\n",
       "      <td>49.650000</td>\n",
       "      <td>10.000000</td>\n",
       "    </tr>\n",
       "  </tbody>\n",
       "</table>\n",
       "</div>"
      ],
      "text/plain": [
       "       Unit price    Quantity      Tax 5%        Total        cogs  \\\n",
       "count  351.000000  351.000000  351.000000   351.000000  351.000000   \n",
       "mean    55.944473    5.783476   16.329231   342.913846  326.584615   \n",
       "std     27.088309    2.841300   11.955002   251.055049  239.100046   \n",
       "min     10.590000    1.000000    0.627000    13.167000   12.540000   \n",
       "25%     31.990000    4.000000    6.841500   143.671500  136.830000   \n",
       "50%     55.730000    6.000000   13.228000   277.788000  264.560000   \n",
       "75%     78.465000    8.000000   24.052250   505.097250  481.045000   \n",
       "max     99.960000   10.000000   49.650000  1042.650000  993.000000   \n",
       "\n",
       "       gross margin percentage  gross income      Rating  \n",
       "count               351.000000    351.000000  351.000000  \n",
       "mean                  4.761905     16.329231    6.947009  \n",
       "std                   0.000000     11.955002    1.725386  \n",
       "min                   4.761905      0.627000    4.000000  \n",
       "25%                   4.761905      6.841500    5.500000  \n",
       "50%                   4.761905     13.228000    6.900000  \n",
       "75%                   4.761905     24.052250    8.400000  \n",
       "max                   4.761905     49.650000   10.000000  "
      ]
     },
     "execution_count": 5,
     "metadata": {},
     "output_type": "execute_result"
    }
   ],
   "source": [
    "data.describe()"
   ]
  },
  {
   "cell_type": "markdown",
   "id": "29c444aa",
   "metadata": {},
   "source": [
    "Pre-processing EDA"
   ]
  },
  {
   "cell_type": "code",
   "execution_count": 6,
   "id": "d7e7e0e7",
   "metadata": {},
   "outputs": [],
   "source": [
    "columns = ['Branch','City','Customer type','Gender','Product line','Payment']"
   ]
  },
  {
   "cell_type": "code",
   "execution_count": 7,
   "id": "440dc9f2",
   "metadata": {},
   "outputs": [
    {
     "data": {
      "image/png": "[encoded data removed]",
      "text/plain": [
       "<Figure size 1008x576 with 6 Axes>"
      ]
     },
     "metadata": {
      "needs_background": "light"
     },
     "output_type": "display_data"
    }
   ],
   "source": [
    "plt.figure(figsize=(14,8))\n",
    "for i in range(len(columns)):\n",
    "    plt.subplot(2,3,i+1)\n",
    "    sns.countplot(x=data[columns[i]])\n",
    "    plt.xticks(rotation=45)\n",
    "plt.tight_layout()"
   ]
  },
  {
   "cell_type": "code",
   "execution_count": 8,
   "id": "ea299ad4",
   "metadata": {},
   "outputs": [
    {
     "data": {
      "image/png": "[encoded data removed]",
      "text/plain": [
       "<Figure size 864x360 with 1 Axes>"
      ]
     },
     "metadata": {
      "needs_background": "light"
     },
     "output_type": "display_data"
    }
   ],
   "source": [
    "plt.figure(figsize=(12,5))\n",
    "data.boxplot()\n",
    "plt.show()"
   ]
  },
  {
   "cell_type": "markdown",
   "id": "6b6bbdd7",
   "metadata": {},
   "source": [
    "Data pre-processing "
   ]
  },
  {
   "cell_type": "code",
   "execution_count": 9,
   "id": "9350a837",
   "metadata": {},
   "outputs": [
    {
     "data": {
      "text/html": [
       "<div>\n",
       "<style scoped>\n",
       "    .dataframe tbody tr th:only-of-type {\n",
       "        vertical-align: middle;\n",
       "    }\n",
       "\n",
       "    .dataframe tbody tr th {\n",
       "        vertical-align: top;\n",
       "    }\n",
       "\n",
       "    .dataframe thead th {\n",
       "        text-align: right;\n",
       "    }\n",
       "</style>\n",
       "<table border=\"1\" class=\"dataframe\">\n",
       "  <thead>\n",
       "    <tr style=\"text-align: right;\">\n",
       "      <th></th>\n",
       "      <th>Branch</th>\n",
       "      <th>City</th>\n",
       "      <th>Customer type</th>\n",
       "      <th>Gender</th>\n",
       "      <th>Product line</th>\n",
       "      <th>Unit price</th>\n",
       "      <th>Quantity</th>\n",
       "      <th>Tax 5%</th>\n",
       "      <th>Total</th>\n",
       "      <th>Date</th>\n",
       "      <th>Time</th>\n",
       "      <th>Payment</th>\n",
       "      <th>cogs</th>\n",
       "      <th>gross margin percentage</th>\n",
       "      <th>gross income</th>\n",
       "      <th>Rating</th>\n",
       "    </tr>\n",
       "  </thead>\n",
       "  <tbody>\n",
       "    <tr>\n",
       "      <th>0</th>\n",
       "      <td>A</td>\n",
       "      <td>Yangon</td>\n",
       "      <td>Member</td>\n",
       "      <td>Female</td>\n",
       "      <td>Health and beauty</td>\n",
       "      <td>74.69</td>\n",
       "      <td>7</td>\n",
       "      <td>26.1415</td>\n",
       "      <td>548.9715</td>\n",
       "      <td>2019-01-05</td>\n",
       "      <td>2023-12-15 13:08:00</td>\n",
       "      <td>Ewallet</td>\n",
       "      <td>522.83</td>\n",
       "      <td>4.761905</td>\n",
       "      <td>26.1415</td>\n",
       "      <td>9.1</td>\n",
       "    </tr>\n",
       "    <tr>\n",
       "      <th>1</th>\n",
       "      <td>C</td>\n",
       "      <td>Naypyitaw</td>\n",
       "      <td>Normal</td>\n",
       "      <td>Female</td>\n",
       "      <td>Electronic accessories</td>\n",
       "      <td>15.28</td>\n",
       "      <td>5</td>\n",
       "      <td>3.8200</td>\n",
       "      <td>80.2200</td>\n",
       "      <td>2019-03-08</td>\n",
       "      <td>2023-12-15 10:29:00</td>\n",
       "      <td>Cash</td>\n",
       "      <td>76.40</td>\n",
       "      <td>4.761905</td>\n",
       "      <td>3.8200</td>\n",
       "      <td>9.6</td>\n",
       "    </tr>\n",
       "    <tr>\n",
       "      <th>2</th>\n",
       "      <td>A</td>\n",
       "      <td>Yangon</td>\n",
       "      <td>Normal</td>\n",
       "      <td>Male</td>\n",
       "      <td>Home and lifestyle</td>\n",
       "      <td>46.33</td>\n",
       "      <td>7</td>\n",
       "      <td>16.2155</td>\n",
       "      <td>340.5255</td>\n",
       "      <td>2019-03-03</td>\n",
       "      <td>2023-12-15 13:23:00</td>\n",
       "      <td>Credit card</td>\n",
       "      <td>324.31</td>\n",
       "      <td>4.761905</td>\n",
       "      <td>16.2155</td>\n",
       "      <td>7.4</td>\n",
       "    </tr>\n",
       "    <tr>\n",
       "      <th>3</th>\n",
       "      <td>A</td>\n",
       "      <td>Yangon</td>\n",
       "      <td>Member</td>\n",
       "      <td>Male</td>\n",
       "      <td>Health and beauty</td>\n",
       "      <td>58.22</td>\n",
       "      <td>8</td>\n",
       "      <td>23.2880</td>\n",
       "      <td>489.0480</td>\n",
       "      <td>2019-01-27</td>\n",
       "      <td>2023-12-15 20:33:00</td>\n",
       "      <td>Ewallet</td>\n",
       "      <td>465.76</td>\n",
       "      <td>4.761905</td>\n",
       "      <td>23.2880</td>\n",
       "      <td>8.4</td>\n",
       "    </tr>\n",
       "    <tr>\n",
       "      <th>4</th>\n",
       "      <td>A</td>\n",
       "      <td>Yangon</td>\n",
       "      <td>Normal</td>\n",
       "      <td>Male</td>\n",
       "      <td>Sports and travel</td>\n",
       "      <td>86.31</td>\n",
       "      <td>7</td>\n",
       "      <td>30.2085</td>\n",
       "      <td>634.3785</td>\n",
       "      <td>2019-02-08</td>\n",
       "      <td>2023-12-15 10:37:00</td>\n",
       "      <td>Ewallet</td>\n",
       "      <td>604.17</td>\n",
       "      <td>4.761905</td>\n",
       "      <td>30.2085</td>\n",
       "      <td>5.3</td>\n",
       "    </tr>\n",
       "  </tbody>\n",
       "</table>\n",
       "</div>"
      ],
      "text/plain": [
       "  Branch       City Customer type  Gender            Product line  Unit price  \\\n",
       "0      A     Yangon        Member  Female       Health and beauty       74.69   \n",
       "1      C  Naypyitaw        Normal  Female  Electronic accessories       15.28   \n",
       "2      A     Yangon        Normal    Male      Home and lifestyle       46.33   \n",
       "3      A     Yangon        Member    Male       Health and beauty       58.22   \n",
       "4      A     Yangon        Normal    Male       Sports and travel       86.31   \n",
       "\n",
       "   Quantity   Tax 5%     Total       Date                Time      Payment  \\\n",
       "0         7  26.1415  548.9715 2019-01-05 2023-12-15 13:08:00      Ewallet   \n",
       "1         5   3.8200   80.2200 2019-03-08 2023-12-15 10:29:00         Cash   \n",
       "2         7  16.2155  340.5255 2019-03-03 2023-12-15 13:23:00  Credit card   \n",
       "3         8  23.2880  489.0480 2019-01-27 2023-12-15 20:33:00      Ewallet   \n",
       "4         7  30.2085  634.3785 2019-02-08 2023-12-15 10:37:00      Ewallet   \n",
       "\n",
       "     cogs  gross margin percentage  gross income  Rating  \n",
       "0  522.83                 4.761905       26.1415     9.1  \n",
       "1   76.40                 4.761905        3.8200     9.6  \n",
       "2  324.31                 4.761905       16.2155     7.4  \n",
       "3  465.76                 4.761905       23.2880     8.4  \n",
       "4  604.17                 4.761905       30.2085     5.3  "
      ]
     },
     "execution_count": 9,
     "metadata": {},
     "output_type": "execute_result"
    }
   ],
   "source": [
    "data.head()"
   ]
  },
  {
   "cell_type": "markdown",
   "id": "4eed8229",
   "metadata": {},
   "source": [
    "- Handling \"Date\" column \n",
    "\n",
    "Extracting day, year, month from the columns "
   ]
  },
  {
   "cell_type": "code",
   "execution_count": 10,
   "id": "e9126719",
   "metadata": {},
   "outputs": [],
   "source": [
    "data.insert(9,\"day\",data.Date.dt.day)\n",
    "data.insert(10,\"month\",data.Date.dt.month)\n",
    "data.insert(11,\"year\",data.Date.dt.year)"
   ]
  },
  {
   "cell_type": "code",
   "execution_count": 11,
   "id": "cbd1d8dd",
   "metadata": {},
   "outputs": [],
   "source": [
    "#Now dropping the \"Date\" column\n",
    "data.drop(columns=[\"Date\"], inplace=True)"
   ]
  },
  {
   "cell_type": "markdown",
   "id": "66cf2061",
   "metadata": {},
   "source": [
    "- Handling \"Time\" column\n",
    "\n",
    "Extracting hour, minute from Time columns"
   ]
  },
  {
   "cell_type": "code",
   "execution_count": 12,
   "id": "dcb4b26b",
   "metadata": {},
   "outputs": [],
   "source": [
    "data.insert(12,\"hour\",data.Time.dt.hour)\n",
    "data.insert(13,\"minute\",data.Time.dt.minute)"
   ]
  },
  {
   "cell_type": "code",
   "execution_count": 13,
   "id": "28408ef8",
   "metadata": {},
   "outputs": [],
   "source": [
    "#Now dropping the \"Time\" column\n",
    "data.drop(columns=[\"Time\"], inplace=True)"
   ]
  },
  {
   "cell_type": "code",
   "execution_count": 14,
   "id": "cb303305",
   "metadata": {},
   "outputs": [
    {
     "data": {
      "text/html": [
       "<div>\n",
       "<style scoped>\n",
       "    .dataframe tbody tr th:only-of-type {\n",
       "        vertical-align: middle;\n",
       "    }\n",
       "\n",
       "    .dataframe tbody tr th {\n",
       "        vertical-align: top;\n",
       "    }\n",
       "\n",
       "    .dataframe thead th {\n",
       "        text-align: right;\n",
       "    }\n",
       "</style>\n",
       "<table border=\"1\" class=\"dataframe\">\n",
       "  <thead>\n",
       "    <tr style=\"text-align: right;\">\n",
       "      <th></th>\n",
       "      <th>Branch</th>\n",
       "      <th>City</th>\n",
       "      <th>Customer type</th>\n",
       "      <th>Gender</th>\n",
       "      <th>Product line</th>\n",
       "      <th>Unit price</th>\n",
       "      <th>Quantity</th>\n",
       "      <th>Tax 5%</th>\n",
       "      <th>Total</th>\n",
       "      <th>day</th>\n",
       "      <th>month</th>\n",
       "      <th>year</th>\n",
       "      <th>hour</th>\n",
       "      <th>minute</th>\n",
       "      <th>Payment</th>\n",
       "      <th>cogs</th>\n",
       "      <th>gross margin percentage</th>\n",
       "      <th>gross income</th>\n",
       "      <th>Rating</th>\n",
       "    </tr>\n",
       "  </thead>\n",
       "  <tbody>\n",
       "    <tr>\n",
       "      <th>0</th>\n",
       "      <td>A</td>\n",
       "      <td>Yangon</td>\n",
       "      <td>Member</td>\n",
       "      <td>Female</td>\n",
       "      <td>Health and beauty</td>\n",
       "      <td>74.69</td>\n",
       "      <td>7</td>\n",
       "      <td>26.1415</td>\n",
       "      <td>548.9715</td>\n",
       "      <td>5</td>\n",
       "      <td>1</td>\n",
       "      <td>2019</td>\n",
       "      <td>13</td>\n",
       "      <td>8</td>\n",
       "      <td>Ewallet</td>\n",
       "      <td>522.83</td>\n",
       "      <td>4.761905</td>\n",
       "      <td>26.1415</td>\n",
       "      <td>9.1</td>\n",
       "    </tr>\n",
       "    <tr>\n",
       "      <th>1</th>\n",
       "      <td>C</td>\n",
       "      <td>Naypyitaw</td>\n",
       "      <td>Normal</td>\n",
       "      <td>Female</td>\n",
       "      <td>Electronic accessories</td>\n",
       "      <td>15.28</td>\n",
       "      <td>5</td>\n",
       "      <td>3.8200</td>\n",
       "      <td>80.2200</td>\n",
       "      <td>8</td>\n",
       "      <td>3</td>\n",
       "      <td>2019</td>\n",
       "      <td>10</td>\n",
       "      <td>29</td>\n",
       "      <td>Cash</td>\n",
       "      <td>76.40</td>\n",
       "      <td>4.761905</td>\n",
       "      <td>3.8200</td>\n",
       "      <td>9.6</td>\n",
       "    </tr>\n",
       "    <tr>\n",
       "      <th>2</th>\n",
       "      <td>A</td>\n",
       "      <td>Yangon</td>\n",
       "      <td>Normal</td>\n",
       "      <td>Male</td>\n",
       "      <td>Home and lifestyle</td>\n",
       "      <td>46.33</td>\n",
       "      <td>7</td>\n",
       "      <td>16.2155</td>\n",
       "      <td>340.5255</td>\n",
       "      <td>3</td>\n",
       "      <td>3</td>\n",
       "      <td>2019</td>\n",
       "      <td>13</td>\n",
       "      <td>23</td>\n",
       "      <td>Credit card</td>\n",
       "      <td>324.31</td>\n",
       "      <td>4.761905</td>\n",
       "      <td>16.2155</td>\n",
       "      <td>7.4</td>\n",
       "    </tr>\n",
       "  </tbody>\n",
       "</table>\n",
       "</div>"
      ],
      "text/plain": [
       "  Branch       City Customer type  Gender            Product line  Unit price  \\\n",
       "0      A     Yangon        Member  Female       Health and beauty       74.69   \n",
       "1      C  Naypyitaw        Normal  Female  Electronic accessories       15.28   \n",
       "2      A     Yangon        Normal    Male      Home and lifestyle       46.33   \n",
       "\n",
       "   Quantity   Tax 5%     Total  day  month  year  hour  minute      Payment  \\\n",
       "0         7  26.1415  548.9715    5      1  2019    13       8      Ewallet   \n",
       "1         5   3.8200   80.2200    8      3  2019    10      29         Cash   \n",
       "2         7  16.2155  340.5255    3      3  2019    13      23  Credit card   \n",
       "\n",
       "     cogs  gross margin percentage  gross income  Rating  \n",
       "0  522.83                 4.761905       26.1415     9.1  \n",
       "1   76.40                 4.761905        3.8200     9.6  \n",
       "2  324.31                 4.761905       16.2155     7.4  "
      ]
     },
     "execution_count": 14,
     "metadata": {},
     "output_type": "execute_result"
    }
   ],
   "source": [
    "data.head(3)"
   ]
  },
  {
   "cell_type": "markdown",
   "id": "f82e3df6",
   "metadata": {},
   "source": [
    "- Scaling numerical data"
   ]
  },
  {
   "cell_type": "code",
   "execution_count": 15,
   "id": "41951679",
   "metadata": {},
   "outputs": [],
   "source": [
    "columns = [\"Unit price\", \"Tax 5%\", \"Total\", \"cogs\", \"gross margin percentage\", \"gross income\"]"
   ]
  },
  {
   "cell_type": "code",
   "execution_count": 16,
   "id": "00a94fc8",
   "metadata": {},
   "outputs": [
    {
     "data": {
      "image/png": "[encoded data removed]",
      "text/plain": [
       "<Figure size 864x432 with 6 Axes>"
      ]
     },
     "metadata": {
      "needs_background": "light"
     },
     "output_type": "display_data"
    }
   ],
   "source": [
    "plt.figure(figsize=(12,6))\n",
    "for i in range(len(columns)):\n",
    "    plt.subplot(2,3,i+1)\n",
    "    sns.kdeplot(x=data[columns[i]])\n",
    "plt.suptitle(\"Before Scaling\", fontsize=15)\n",
    "plt.tight_layout()"
   ]
  },
  {
   "cell_type": "code",
   "execution_count": 17,
   "id": "f22a1163",
   "metadata": {},
   "outputs": [],
   "source": [
    "pipeline = Pipeline([\n",
    "    (\"Standard scaler\",StandardScaler()),\n",
    "    (\"Robust scaler\", RobustScaler())\n",
    "])"
   ]
  },
  {
   "cell_type": "code",
   "execution_count": 18,
   "id": "28141a16",
   "metadata": {},
   "outputs": [],
   "source": [
    "data[columns] = pipeline.fit_transform(data[columns])"
   ]
  },
  {
   "cell_type": "code",
   "execution_count": 19,
   "id": "3e4d18a9",
   "metadata": {},
   "outputs": [
    {
     "data": {
      "image/png": "[encoded data removed]",
      "text/plain": [
       "<Figure size 864x432 with 6 Axes>"
      ]
     },
     "metadata": {
      "needs_background": "light"
     },
     "output_type": "display_data"
    }
   ],
   "source": [
    "plt.figure(figsize=(12,6))\n",
    "for i in range(len(columns)):\n",
    "    plt.subplot(2,3,i+1)\n",
    "    sns.kdeplot(x=data[columns[i]])\n",
    "plt.suptitle(\"After Scaling\", fontsize=15)\n",
    "plt.tight_layout()"
   ]
  },
  {
   "cell_type": "markdown",
   "id": "db6bf106",
   "metadata": {},
   "source": [
    "- Encoding Data"
   ]
  },
  {
   "cell_type": "code",
   "execution_count": 20,
   "id": "6e30adaf",
   "metadata": {},
   "outputs": [
    {
     "data": {
      "text/html": [
       "<div>\n",
       "<style scoped>\n",
       "    .dataframe tbody tr th:only-of-type {\n",
       "        vertical-align: middle;\n",
       "    }\n",
       "\n",
       "    .dataframe tbody tr th {\n",
       "        vertical-align: top;\n",
       "    }\n",
       "\n",
       "    .dataframe thead th {\n",
       "        text-align: right;\n",
       "    }\n",
       "</style>\n",
       "<table border=\"1\" class=\"dataframe\">\n",
       "  <thead>\n",
       "    <tr style=\"text-align: right;\">\n",
       "      <th></th>\n",
       "      <th>Branch</th>\n",
       "      <th>City</th>\n",
       "      <th>Customer type</th>\n",
       "      <th>Gender</th>\n",
       "      <th>Product line</th>\n",
       "      <th>Unit price</th>\n",
       "      <th>Quantity</th>\n",
       "      <th>Tax 5%</th>\n",
       "      <th>Total</th>\n",
       "      <th>day</th>\n",
       "      <th>month</th>\n",
       "      <th>year</th>\n",
       "      <th>hour</th>\n",
       "      <th>minute</th>\n",
       "      <th>Payment</th>\n",
       "      <th>cogs</th>\n",
       "      <th>gross margin percentage</th>\n",
       "      <th>gross income</th>\n",
       "      <th>Rating</th>\n",
       "    </tr>\n",
       "  </thead>\n",
       "  <tbody>\n",
       "    <tr>\n",
       "      <th>0</th>\n",
       "      <td>A</td>\n",
       "      <td>Yangon</td>\n",
       "      <td>Member</td>\n",
       "      <td>Female</td>\n",
       "      <td>Health and beauty</td>\n",
       "      <td>0.407961</td>\n",
       "      <td>7</td>\n",
       "      <td>0.750316</td>\n",
       "      <td>0.750316</td>\n",
       "      <td>5</td>\n",
       "      <td>1</td>\n",
       "      <td>2019</td>\n",
       "      <td>13</td>\n",
       "      <td>8</td>\n",
       "      <td>Ewallet</td>\n",
       "      <td>0.750316</td>\n",
       "      <td>0.0</td>\n",
       "      <td>0.750316</td>\n",
       "      <td>9.1</td>\n",
       "    </tr>\n",
       "    <tr>\n",
       "      <th>1</th>\n",
       "      <td>C</td>\n",
       "      <td>Naypyitaw</td>\n",
       "      <td>Normal</td>\n",
       "      <td>Female</td>\n",
       "      <td>Electronic accessories</td>\n",
       "      <td>-0.870360</td>\n",
       "      <td>5</td>\n",
       "      <td>-0.546635</td>\n",
       "      <td>-0.546635</td>\n",
       "      <td>8</td>\n",
       "      <td>3</td>\n",
       "      <td>2019</td>\n",
       "      <td>10</td>\n",
       "      <td>29</td>\n",
       "      <td>Cash</td>\n",
       "      <td>-0.546635</td>\n",
       "      <td>0.0</td>\n",
       "      <td>-0.546635</td>\n",
       "      <td>9.6</td>\n",
       "    </tr>\n",
       "    <tr>\n",
       "      <th>2</th>\n",
       "      <td>A</td>\n",
       "      <td>Yangon</td>\n",
       "      <td>Normal</td>\n",
       "      <td>Male</td>\n",
       "      <td>Home and lifestyle</td>\n",
       "      <td>-0.202259</td>\n",
       "      <td>7</td>\n",
       "      <td>0.173583</td>\n",
       "      <td>0.173583</td>\n",
       "      <td>3</td>\n",
       "      <td>3</td>\n",
       "      <td>2019</td>\n",
       "      <td>13</td>\n",
       "      <td>23</td>\n",
       "      <td>Credit card</td>\n",
       "      <td>0.173583</td>\n",
       "      <td>0.0</td>\n",
       "      <td>0.173583</td>\n",
       "      <td>7.4</td>\n",
       "    </tr>\n",
       "  </tbody>\n",
       "</table>\n",
       "</div>"
      ],
      "text/plain": [
       "  Branch       City Customer type  Gender            Product line  Unit price  \\\n",
       "0      A     Yangon        Member  Female       Health and beauty    0.407961   \n",
       "1      C  Naypyitaw        Normal  Female  Electronic accessories   -0.870360   \n",
       "2      A     Yangon        Normal    Male      Home and lifestyle   -0.202259   \n",
       "\n",
       "   Quantity    Tax 5%     Total  day  month  year  hour  minute      Payment  \\\n",
       "0         7  0.750316  0.750316    5      1  2019    13       8      Ewallet   \n",
       "1         5 -0.546635 -0.546635    8      3  2019    10      29         Cash   \n",
       "2         7  0.173583  0.173583    3      3  2019    13      23  Credit card   \n",
       "\n",
       "       cogs  gross margin percentage  gross income  Rating  \n",
       "0  0.750316                      0.0      0.750316     9.1  \n",
       "1 -0.546635                      0.0     -0.546635     9.6  \n",
       "2  0.173583                      0.0      0.173583     7.4  "
      ]
     },
     "execution_count": 20,
     "metadata": {},
     "output_type": "execute_result"
    }
   ],
   "source": [
    "data.head(3)"
   ]
  },
  {
   "cell_type": "code",
   "execution_count": 21,
   "id": "a5b54e9e",
   "metadata": {},
   "outputs": [],
   "source": [
    "columns = ['Branch','City','Customer type','Gender','Product line','Payment']"
   ]
  },
  {
   "cell_type": "code",
   "execution_count": 22,
   "id": "55d72050",
   "metadata": {},
   "outputs": [],
   "source": [
    "for col in columns:\n",
    "    le = LabelEncoder()\n",
    "    data[col] = le.fit_transform(data[col])"
   ]
  },
  {
   "cell_type": "code",
   "execution_count": 23,
   "id": "319ed2e2",
   "metadata": {},
   "outputs": [
    {
     "data": {
      "text/html": [
       "<div>\n",
       "<style scoped>\n",
       "    .dataframe tbody tr th:only-of-type {\n",
       "        vertical-align: middle;\n",
       "    }\n",
       "\n",
       "    .dataframe tbody tr th {\n",
       "        vertical-align: top;\n",
       "    }\n",
       "\n",
       "    .dataframe thead th {\n",
       "        text-align: right;\n",
       "    }\n",
       "</style>\n",
       "<table border=\"1\" class=\"dataframe\">\n",
       "  <thead>\n",
       "    <tr style=\"text-align: right;\">\n",
       "      <th></th>\n",
       "      <th>Branch</th>\n",
       "      <th>City</th>\n",
       "      <th>Customer type</th>\n",
       "      <th>Gender</th>\n",
       "      <th>Product line</th>\n",
       "      <th>Unit price</th>\n",
       "      <th>Quantity</th>\n",
       "      <th>Tax 5%</th>\n",
       "      <th>Total</th>\n",
       "      <th>day</th>\n",
       "      <th>month</th>\n",
       "      <th>year</th>\n",
       "      <th>hour</th>\n",
       "      <th>minute</th>\n",
       "      <th>Payment</th>\n",
       "      <th>cogs</th>\n",
       "      <th>gross margin percentage</th>\n",
       "      <th>gross income</th>\n",
       "      <th>Rating</th>\n",
       "    </tr>\n",
       "  </thead>\n",
       "  <tbody>\n",
       "    <tr>\n",
       "      <th>0</th>\n",
       "      <td>0</td>\n",
       "      <td>2</td>\n",
       "      <td>0</td>\n",
       "      <td>0</td>\n",
       "      <td>3</td>\n",
       "      <td>0.407961</td>\n",
       "      <td>7</td>\n",
       "      <td>0.750316</td>\n",
       "      <td>0.750316</td>\n",
       "      <td>5</td>\n",
       "      <td>1</td>\n",
       "      <td>2019</td>\n",
       "      <td>13</td>\n",
       "      <td>8</td>\n",
       "      <td>2</td>\n",
       "      <td>0.750316</td>\n",
       "      <td>0.0</td>\n",
       "      <td>0.750316</td>\n",
       "      <td>9.1</td>\n",
       "    </tr>\n",
       "    <tr>\n",
       "      <th>1</th>\n",
       "      <td>2</td>\n",
       "      <td>1</td>\n",
       "      <td>1</td>\n",
       "      <td>0</td>\n",
       "      <td>0</td>\n",
       "      <td>-0.870360</td>\n",
       "      <td>5</td>\n",
       "      <td>-0.546635</td>\n",
       "      <td>-0.546635</td>\n",
       "      <td>8</td>\n",
       "      <td>3</td>\n",
       "      <td>2019</td>\n",
       "      <td>10</td>\n",
       "      <td>29</td>\n",
       "      <td>0</td>\n",
       "      <td>-0.546635</td>\n",
       "      <td>0.0</td>\n",
       "      <td>-0.546635</td>\n",
       "      <td>9.6</td>\n",
       "    </tr>\n",
       "    <tr>\n",
       "      <th>2</th>\n",
       "      <td>0</td>\n",
       "      <td>2</td>\n",
       "      <td>1</td>\n",
       "      <td>1</td>\n",
       "      <td>4</td>\n",
       "      <td>-0.202259</td>\n",
       "      <td>7</td>\n",
       "      <td>0.173583</td>\n",
       "      <td>0.173583</td>\n",
       "      <td>3</td>\n",
       "      <td>3</td>\n",
       "      <td>2019</td>\n",
       "      <td>13</td>\n",
       "      <td>23</td>\n",
       "      <td>1</td>\n",
       "      <td>0.173583</td>\n",
       "      <td>0.0</td>\n",
       "      <td>0.173583</td>\n",
       "      <td>7.4</td>\n",
       "    </tr>\n",
       "    <tr>\n",
       "      <th>3</th>\n",
       "      <td>0</td>\n",
       "      <td>2</td>\n",
       "      <td>0</td>\n",
       "      <td>1</td>\n",
       "      <td>3</td>\n",
       "      <td>0.053577</td>\n",
       "      <td>8</td>\n",
       "      <td>0.584518</td>\n",
       "      <td>0.584518</td>\n",
       "      <td>27</td>\n",
       "      <td>1</td>\n",
       "      <td>2019</td>\n",
       "      <td>20</td>\n",
       "      <td>33</td>\n",
       "      <td>2</td>\n",
       "      <td>0.584518</td>\n",
       "      <td>0.0</td>\n",
       "      <td>0.584518</td>\n",
       "      <td>8.4</td>\n",
       "    </tr>\n",
       "    <tr>\n",
       "      <th>4</th>\n",
       "      <td>0</td>\n",
       "      <td>2</td>\n",
       "      <td>1</td>\n",
       "      <td>1</td>\n",
       "      <td>5</td>\n",
       "      <td>0.657988</td>\n",
       "      <td>7</td>\n",
       "      <td>0.986622</td>\n",
       "      <td>0.986622</td>\n",
       "      <td>8</td>\n",
       "      <td>2</td>\n",
       "      <td>2019</td>\n",
       "      <td>10</td>\n",
       "      <td>37</td>\n",
       "      <td>2</td>\n",
       "      <td>0.986622</td>\n",
       "      <td>0.0</td>\n",
       "      <td>0.986622</td>\n",
       "      <td>5.3</td>\n",
       "    </tr>\n",
       "  </tbody>\n",
       "</table>\n",
       "</div>"
      ],
      "text/plain": [
       "   Branch  City  Customer type  Gender  Product line  Unit price  Quantity  \\\n",
       "0       0     2              0       0             3    0.407961         7   \n",
       "1       2     1              1       0             0   -0.870360         5   \n",
       "2       0     2              1       1             4   -0.202259         7   \n",
       "3       0     2              0       1             3    0.053577         8   \n",
       "4       0     2              1       1             5    0.657988         7   \n",
       "\n",
       "     Tax 5%     Total  day  month  year  hour  minute  Payment      cogs  \\\n",
       "0  0.750316  0.750316    5      1  2019    13       8        2  0.750316   \n",
       "1 -0.546635 -0.546635    8      3  2019    10      29        0 -0.546635   \n",
       "2  0.173583  0.173583    3      3  2019    13      23        1  0.173583   \n",
       "3  0.584518  0.584518   27      1  2019    20      33        2  0.584518   \n",
       "4  0.986622  0.986622    8      2  2019    10      37        2  0.986622   \n",
       "\n",
       "   gross margin percentage  gross income  Rating  \n",
       "0                      0.0      0.750316     9.1  \n",
       "1                      0.0     -0.546635     9.6  \n",
       "2                      0.0      0.173583     7.4  \n",
       "3                      0.0      0.584518     8.4  \n",
       "4                      0.0      0.986622     5.3  "
      ]
     },
     "execution_count": 23,
     "metadata": {},
     "output_type": "execute_result"
    }
   ],
   "source": [
    "data.head()"
   ]
  },
  {
   "cell_type": "markdown",
   "id": "c5596899",
   "metadata": {},
   "source": [
    "Data Splitting "
   ]
  },
  {
   "cell_type": "code",
   "execution_count": 24,
   "id": "e4bed39b",
   "metadata": {},
   "outputs": [
    {
     "data": {
      "text/plain": [
       "((351, 18), (351,))"
      ]
     },
     "execution_count": 24,
     "metadata": {},
     "output_type": "execute_result"
    }
   ],
   "source": [
    "X = data.drop(columns=[\"Rating\"])\n",
    "y = data[\"Rating\"]\n",
    "X.shape, y.shape"
   ]
  },
  {
   "cell_type": "code",
   "execution_count": 26,
   "id": "3dc6c114",
   "metadata": {},
   "outputs": [],
   "source": [
    "X_train, X_test, y_train, y_test = train_test_split(X,y)"
   ]
  },
  {
   "cell_type": "markdown",
   "id": "e82a3f61",
   "metadata": {},
   "source": [
    "Model Selection"
   ]
  },
  {
   "cell_type": "markdown",
   "id": "1cb476e5",
   "metadata": {},
   "source": [
    "- Model training"
   ]
  },
  {
   "cell_type": "code",
   "execution_count": 29,
   "id": "655d889f",
   "metadata": {},
   "outputs": [],
   "source": [
    "#Linear regresssion model\n",
    "linear_model = LinearRegression().fit(X_train, y_train)\n",
    "\n",
    "#Random forest model\n",
    "rf_model = RandomForestRegressor().fit(X_train, y_train)\n",
    "\n",
    "#Gradient boosting model\n",
    "gb_model = GradientBoostingRegressor().fit(X_train, y_train)"
   ]
  },
  {
   "cell_type": "markdown",
   "id": "bc9f696c",
   "metadata": {},
   "source": [
    "- Making predictions"
   ]
  },
  {
   "cell_type": "code",
   "execution_count": 30,
   "id": "9ffe7eb9",
   "metadata": {},
   "outputs": [],
   "source": [
    "#Linear regresssion predictions\n",
    "linear_preds = linear_model.predict(X_test)\n",
    "\n",
    "#Random forest predictions\n",
    "rf_preds = rf_model.predict(X_test)\n",
    "\n",
    "#Gradient boosting predictions\n",
    "gb_preds = gb_model.predict(X_test)"
   ]
  },
  {
   "cell_type": "markdown",
   "id": "b32945d6",
   "metadata": {},
   "source": [
    "Model Evaluation "
   ]
  },
  {
   "cell_type": "code",
   "execution_count": 52,
   "id": "d9975b7e",
   "metadata": {},
   "outputs": [],
   "source": [
    "def evaluate(model_name, y_preds, y_test=y_test):\n",
    "    plt.figure(figsize=(10, 5))\n",
    "    # Scatter plot of actual vs. predicted values\n",
    "    plt.subplot(1, 2, 1)\n",
    "    plt.scatter(y_test, y_preds)\n",
    "    plt.xlabel('Actual Values')\n",
    "    plt.ylabel('Predicted Values')\n",
    "    plt.title('Actual vs. Predicted Values')\n",
    "\n",
    "    # Residual plot : Plot the residuals (the differences between actual and predicted values) against the predicted values. This helps you identify patterns or trends in the errors.\n",
    "    plt.subplot(1, 2, 2)\n",
    "    residuals = y_test - y_preds\n",
    "    plt.scatter(y_preds, residuals)\n",
    "    plt.axhline(y=0, color='r', linestyle='--')\n",
    "    plt.xlabel('Predicted Values')\n",
    "    plt.ylabel('Residuals')\n",
    "    plt.title('Residual Plot')\n",
    "\n",
    "    plt.tight_layout()\n",
    "    plt.show()\n",
    "\n",
    "    # Error Metrics\n",
    "    mse = mean_squared_error(y_test, y_preds)\n",
    "    rmse = np.sqrt(mse)\n",
    "    mae = mean_absolute_error(y_test, y_preds)\n",
    "    r2 = r2_score(y_test, y_preds)\n",
    "    print(f\"Model : {model_name}\")\n",
    "    print(f'Mean Squared Error (MSE): {mse:.2f}')\n",
    "    print(f'Root Mean Squared Error (RMSE): {rmse:.2f}')\n",
    "    print(f'Mean Absolute Error (MAE): {mae:.2f}')\n",
    "    print(f'R-squared (R2): {r2:.2f}')"
   ]
  },
  {
   "cell_type": "code",
   "execution_count": 53,
   "id": "6bb43e06",
   "metadata": {},
   "outputs": [
    {
     "data": {
      "image/png": "[encoded data removed]",
      "text/plain": [
       "<Figure size 720x360 with 2 Axes>"
      ]
     },
     "metadata": {
      "needs_background": "light"
     },
     "output_type": "display_data"
    },
    {
     "name": "stdout",
     "output_type": "stream",
     "text": [
      "Model : Linear regression\n",
      "Mean Squared Error (MSE): 3.68\n",
      "Root Mean Squared Error (RMSE): 1.92\n",
      "Mean Absolute Error (MAE): 1.67\n",
      "R-squared (R2): -0.15\n"
     ]
    }
   ],
   "source": [
    "evaluate(\"Linear regression\",linear_preds)"
   ]
  },
  {
   "cell_type": "code",
   "execution_count": 54,
   "id": "c3d5df2f",
   "metadata": {},
   "outputs": [
    {
     "data": {
      "image/png": "[encoded data removed]",
      "text/plain": [
       "<Figure size 720x360 with 2 Axes>"
      ]
     },
     "metadata": {
      "needs_background": "light"
     },
     "output_type": "display_data"
    },
    {
     "name": "stdout",
     "output_type": "stream",
     "text": [
      "Model : random forest\n",
      "Mean Squared Error (MSE): 3.62\n",
      "Root Mean Squared Error (RMSE): 1.90\n",
      "Mean Absolute Error (MAE): 1.64\n",
      "R-squared (R2): -0.13\n"
     ]
    }
   ],
   "source": [
    "evaluate(\"random forest\",rf_preds)"
   ]
  },
  {
   "cell_type": "code",
   "execution_count": 55,
   "id": "db4e4df6",
   "metadata": {},
   "outputs": [
    {
     "data": {
      "image/png": "[encoded data removed]",
      "text/plain": [
       "<Figure size 720x360 with 2 Axes>"
      ]
     },
     "metadata": {
      "needs_background": "light"
     },
     "output_type": "display_data"
    },
    {
     "name": "stdout",
     "output_type": "stream",
     "text": [
      "Model : gradient boosting\n",
      "Mean Squared Error (MSE): 3.63\n",
      "Root Mean Squared Error (RMSE): 1.91\n",
      "Mean Absolute Error (MAE): 1.62\n",
      "R-squared (R2): -0.14\n"
     ]
    }
   ],
   "source": [
    "evaluate(\"gradient boosting\", gb_preds)"
   ]
  },
  {
   "cell_type": "markdown",
   "id": "027c4573",
   "metadata": {},
   "source": [
    "Conclusion "
   ]
  },
  {
   "cell_type": "markdown",
   "id": "06719a1d",
   "metadata": {},
   "source": [
    "- Random forest is giving the best results"
   ]
  },
  {
   "cell_type": "code",
   "execution_count": null,
   "id": "c2be0df3",
   "metadata": {},
   "outputs": [],
   "source": []
  }
 ],
 "metadata": {
  "kernelspec": {
   "display_name": "Python 3 (ipykernel)",
   "language": "python",
   "name": "python3"
  },
  "language_info": {
   "codemirror_mode": {
    "name": "ipython",
    "version": 3
   },
   "file_extension": ".py",
   "mimetype": "text/x-python",
   "name": "python",
   "nbconvert_exporter": "python",
   "pygments_lexer": "ipython3",
   "version": "3.10.0"
  }
 },
 "nbformat": 4,
 "nbformat_minor": 5
}
